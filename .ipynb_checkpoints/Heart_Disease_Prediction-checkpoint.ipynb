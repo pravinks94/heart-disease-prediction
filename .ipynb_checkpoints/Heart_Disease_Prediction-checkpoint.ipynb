{
 "cells": [
  {
   "cell_type": "markdown",
   "metadata": {},
   "source": [
    "# Predicting Heart Disease\n",
    "\n",
    "## 1. Problem Definition\n",
    "\n",
    "To predict whether a person is having heart disease or not.\n",
    "\n",
    "## 2. Data\n",
    "\n",
    "The data is collected from people in Cleveland. Its available in UCI Repository and Kaggle\n",
    "\n",
    "## 3. Features\n",
    "\n",
    "**Data Dictionary**\n",
    "1. age - age in years\n",
    "2. sex - (1 = male; 0 = female)\n",
    "3. cp - chest pain type\n",
    "    * 0: Typical angina: chest pain related decrease blood supply to the heart\n",
    "    * 1: Atypical angina: chest pain not related to heart\n",
    "    * 2: Non-anginal pain: typically esophageal spasms (non heart related)\n",
    "    * 3: Asymptomatic: chest pain not showing signs of disease\n",
    "4. trestbps - resting blood pressure (in mm Hg on admission to the hospital) anything above 130-140 is typically cause for concern\n",
    "5. chol - serum cholestoral in mg/dl\n",
    "    * serum = LDL + HDL + .2 * triglycerides\n",
    "    * above 200 is cause for concern\n",
    "6. fbs - (fasting blood sugar > 120 mg/dl) (1 = true; 0 = false)\n",
    "    * '>126' mg/dL signals diabetes\n",
    "7. restecg - resting electrocardiographic results\n",
    "    * 0: Nothing to note\n",
    "    * 1: ST-T Wave abnormality\n",
    "        * can range from mild symptoms to severe problems\n",
    "        * signals non-normal heart beat\n",
    "    * 2: Possible or definite left ventricular hypertrophy\n",
    "        * Enlarged heart's main pumping chamber\n",
    "8. thalach - maximum heart rate achieved\n",
    "9. exang - exercise induced angina (1 = yes; 0 = no)\n",
    "10. oldpeak - ST depression induced by exercise relative to rest looks at stress of heart during exercise unhealthy heart will stress more\n",
    "11. slope - the slope of the peak exercise ST segment\n",
    "    * 0: Upsloping: better heart rate with exercise (uncommon)\n",
    "    * 1: Flatsloping: minimal change (typical healthy heart)\n",
    "    * 2: Downslopins: signs of unhealthy heart\n",
    "12. ca - number of major vessels (0-3) colored by flourosopy\n",
    "    * colored vessel means the doctor can see the blood passing through\n",
    "    * the more blood movement the better (no clots)\n",
    "13. thal - thalium stress result\n",
    "    * 1,3: normal\n",
    "    * 6: fixed defect: used to be defect but ok now\n",
    "    * 7: reversable defect: no proper blood movement when excercising\n",
    "14. target - have disease or not (1=yes, 0=no) (= the predicted attribute)"
   ]
  },
  {
   "cell_type": "markdown",
   "metadata": {},
   "source": [
    "## Importing Tools"
   ]
  },
  {
   "cell_type": "code",
   "execution_count": 1,
   "metadata": {},
   "outputs": [],
   "source": [
    "# EDA Libraries\n",
    "import numpy as np\n",
    "import pandas as pd\n",
    "%matplotlib inline\n",
    "import matplotlib.pyplot as plt\n",
    "import seaborn as sns\n",
    "\n",
    "# Statistical Tests\n",
    "from statsmodels.stats.proportion import proportions_ztest\n",
    "from scipy.stats import ttest_ind,chi2_contingency\n",
    "\n",
    "# Models from scikit-learn\n",
    "from sklearn.linear_model import LogisticRegression\n",
    "from sklearn.neighbors import KNeighborsClassifier\n",
    "from sklearn.tree import DecisionTreeClassifier\n",
    "from sklearn.ensemble import RandomForestClassifier\n",
    "\n",
    "# Model Evaluation\n",
    "from sklearn.model_selection import train_test_split,cross_val_score\n",
    "from sklearn.model_selection import RandomizedSearchCV,GridSearchCV\n",
    "from sklearn.metrics import precision_score,recall_score,f1_score\n",
    "from sklearn.metrics import confusion_matrix,classification_report\n",
    "from sklearn.metrics import plot_roc_curve"
   ]
  },
  {
   "cell_type": "markdown",
   "metadata": {},
   "source": [
    "## Load Data"
   ]
  },
  {
   "cell_type": "code",
   "execution_count": 3,
   "metadata": {},
   "outputs": [
    {
     "data": {
      "text/html": [
       "<div>\n",
       "<style scoped>\n",
       "    .dataframe tbody tr th:only-of-type {\n",
       "        vertical-align: middle;\n",
       "    }\n",
       "\n",
       "    .dataframe tbody tr th {\n",
       "        vertical-align: top;\n",
       "    }\n",
       "\n",
       "    .dataframe thead th {\n",
       "        text-align: right;\n",
       "    }\n",
       "</style>\n",
       "<table border=\"1\" class=\"dataframe\">\n",
       "  <thead>\n",
       "    <tr style=\"text-align: right;\">\n",
       "      <th></th>\n",
       "      <th>age</th>\n",
       "      <th>sex</th>\n",
       "      <th>cp</th>\n",
       "      <th>trestbps</th>\n",
       "      <th>chol</th>\n",
       "      <th>fbs</th>\n",
       "      <th>restecg</th>\n",
       "      <th>thalach</th>\n",
       "      <th>exang</th>\n",
       "      <th>oldpeak</th>\n",
       "      <th>slope</th>\n",
       "      <th>ca</th>\n",
       "      <th>thal</th>\n",
       "      <th>target</th>\n",
       "    </tr>\n",
       "  </thead>\n",
       "  <tbody>\n",
       "    <tr>\n",
       "      <th>0</th>\n",
       "      <td>63</td>\n",
       "      <td>1</td>\n",
       "      <td>3</td>\n",
       "      <td>145</td>\n",
       "      <td>233</td>\n",
       "      <td>1</td>\n",
       "      <td>0</td>\n",
       "      <td>150</td>\n",
       "      <td>0</td>\n",
       "      <td>2.3</td>\n",
       "      <td>0</td>\n",
       "      <td>0</td>\n",
       "      <td>1</td>\n",
       "      <td>1</td>\n",
       "    </tr>\n",
       "    <tr>\n",
       "      <th>1</th>\n",
       "      <td>37</td>\n",
       "      <td>1</td>\n",
       "      <td>2</td>\n",
       "      <td>130</td>\n",
       "      <td>250</td>\n",
       "      <td>0</td>\n",
       "      <td>1</td>\n",
       "      <td>187</td>\n",
       "      <td>0</td>\n",
       "      <td>3.5</td>\n",
       "      <td>0</td>\n",
       "      <td>0</td>\n",
       "      <td>2</td>\n",
       "      <td>1</td>\n",
       "    </tr>\n",
       "    <tr>\n",
       "      <th>2</th>\n",
       "      <td>41</td>\n",
       "      <td>0</td>\n",
       "      <td>1</td>\n",
       "      <td>130</td>\n",
       "      <td>204</td>\n",
       "      <td>0</td>\n",
       "      <td>0</td>\n",
       "      <td>172</td>\n",
       "      <td>0</td>\n",
       "      <td>1.4</td>\n",
       "      <td>2</td>\n",
       "      <td>0</td>\n",
       "      <td>2</td>\n",
       "      <td>1</td>\n",
       "    </tr>\n",
       "    <tr>\n",
       "      <th>3</th>\n",
       "      <td>56</td>\n",
       "      <td>1</td>\n",
       "      <td>1</td>\n",
       "      <td>120</td>\n",
       "      <td>236</td>\n",
       "      <td>0</td>\n",
       "      <td>1</td>\n",
       "      <td>178</td>\n",
       "      <td>0</td>\n",
       "      <td>0.8</td>\n",
       "      <td>2</td>\n",
       "      <td>0</td>\n",
       "      <td>2</td>\n",
       "      <td>1</td>\n",
       "    </tr>\n",
       "    <tr>\n",
       "      <th>4</th>\n",
       "      <td>57</td>\n",
       "      <td>0</td>\n",
       "      <td>0</td>\n",
       "      <td>120</td>\n",
       "      <td>354</td>\n",
       "      <td>0</td>\n",
       "      <td>1</td>\n",
       "      <td>163</td>\n",
       "      <td>1</td>\n",
       "      <td>0.6</td>\n",
       "      <td>2</td>\n",
       "      <td>0</td>\n",
       "      <td>2</td>\n",
       "      <td>1</td>\n",
       "    </tr>\n",
       "  </tbody>\n",
       "</table>\n",
       "</div>"
      ],
      "text/plain": [
       "   age  sex  cp  trestbps  chol  fbs  restecg  thalach  exang  oldpeak  slope  \\\n",
       "0   63    1   3       145   233    1        0      150      0      2.3      0   \n",
       "1   37    1   2       130   250    0        1      187      0      3.5      0   \n",
       "2   41    0   1       130   204    0        0      172      0      1.4      2   \n",
       "3   56    1   1       120   236    0        1      178      0      0.8      2   \n",
       "4   57    0   0       120   354    0        1      163      1      0.6      2   \n",
       "\n",
       "   ca  thal  target  \n",
       "0   0     1       1  \n",
       "1   0     2       1  \n",
       "2   0     2       1  \n",
       "3   0     2       1  \n",
       "4   0     2       1  "
      ]
     },
     "execution_count": 3,
     "metadata": {},
     "output_type": "execute_result"
    }
   ],
   "source": [
    "df = pd.read_csv('Data/heart-disease.csv')\n",
    "df.head()"
   ]
  },
  {
   "cell_type": "code",
   "execution_count": 4,
   "metadata": {},
   "outputs": [
    {
     "data": {
      "text/plain": [
       "(303, 14)"
      ]
     },
     "execution_count": 4,
     "metadata": {},
     "output_type": "execute_result"
    }
   ],
   "source": [
    "df.shape"
   ]
  },
  {
   "cell_type": "markdown",
   "metadata": {},
   "source": [
    "## Exploratory Data Analysis"
   ]
  },
  {
   "cell_type": "code",
   "execution_count": 5,
   "metadata": {},
   "outputs": [
    {
     "data": {
      "text/plain": [
       "age           int64\n",
       "sex           int64\n",
       "cp            int64\n",
       "trestbps      int64\n",
       "chol          int64\n",
       "fbs           int64\n",
       "restecg       int64\n",
       "thalach       int64\n",
       "exang         int64\n",
       "oldpeak     float64\n",
       "slope         int64\n",
       "ca            int64\n",
       "thal          int64\n",
       "target        int64\n",
       "dtype: object"
      ]
     },
     "execution_count": 5,
     "metadata": {},
     "output_type": "execute_result"
    }
   ],
   "source": [
    "# Data Types\n",
    "df.dtypes  "
   ]
  },
  {
   "cell_type": "code",
   "execution_count": 6,
   "metadata": {},
   "outputs": [
    {
     "data": {
      "text/plain": [
       "age         0\n",
       "sex         0\n",
       "cp          0\n",
       "trestbps    0\n",
       "chol        0\n",
       "fbs         0\n",
       "restecg     0\n",
       "thalach     0\n",
       "exang       0\n",
       "oldpeak     0\n",
       "slope       0\n",
       "ca          0\n",
       "thal        0\n",
       "target      0\n",
       "dtype: int64"
      ]
     },
     "execution_count": 6,
     "metadata": {},
     "output_type": "execute_result"
    }
   ],
   "source": [
    "# Missing Values\n",
    "df.isna().sum()     "
   ]
  },
  {
   "cell_type": "code",
   "execution_count": 7,
   "metadata": {},
   "outputs": [
    {
     "data": {
      "text/plain": [
       "1    165\n",
       "0    138\n",
       "Name: target, dtype: int64"
      ]
     },
     "execution_count": 7,
     "metadata": {},
     "output_type": "execute_result"
    }
   ],
   "source": [
    "df['target'].value_counts()"
   ]
  },
  {
   "cell_type": "code",
   "execution_count": 8,
   "metadata": {},
   "outputs": [
    {
     "data": {
      "image/png": "[encoded data removed]",
      "text/plain": [
       "<Figure size 432x288 with 1 Axes>"
      ]
     },
     "metadata": {
      "needs_background": "light"
     },
     "output_type": "display_data"
    }
   ],
   "source": [
    "df['target'].value_counts().plot.bar(color=['black'])\n",
    "plt.xlabel('1 for disease & 0 for healthy')\n",
    "plt.ylabel('Count')\n",
    "plt.title('Target Evaluation');"
   ]
  },
  {
   "cell_type": "code",
   "execution_count": 9,
   "metadata": {},
   "outputs": [
    {
     "data": {
      "text/html": [
       "<div>\n",
       "<style scoped>\n",
       "    .dataframe tbody tr th:only-of-type {\n",
       "        vertical-align: middle;\n",
       "    }\n",
       "\n",
       "    .dataframe tbody tr th {\n",
       "        vertical-align: top;\n",
       "    }\n",
       "\n",
       "    .dataframe thead th {\n",
       "        text-align: right;\n",
       "    }\n",
       "</style>\n",
       "<table border=\"1\" class=\"dataframe\">\n",
       "  <thead>\n",
       "    <tr style=\"text-align: right;\">\n",
       "      <th></th>\n",
       "      <th>age</th>\n",
       "      <th>sex</th>\n",
       "      <th>cp</th>\n",
       "      <th>trestbps</th>\n",
       "      <th>chol</th>\n",
       "      <th>fbs</th>\n",
       "      <th>restecg</th>\n",
       "      <th>thalach</th>\n",
       "      <th>exang</th>\n",
       "      <th>oldpeak</th>\n",
       "      <th>slope</th>\n",
       "      <th>ca</th>\n",
       "      <th>thal</th>\n",
       "      <th>target</th>\n",
       "    </tr>\n",
       "  </thead>\n",
       "  <tbody>\n",
       "    <tr>\n",
       "      <th>count</th>\n",
       "      <td>303.000000</td>\n",
       "      <td>303.000000</td>\n",
       "      <td>303.000000</td>\n",
       "      <td>303.000000</td>\n",
       "      <td>303.000000</td>\n",
       "      <td>303.000000</td>\n",
       "      <td>303.000000</td>\n",
       "      <td>303.000000</td>\n",
       "      <td>303.000000</td>\n",
       "      <td>303.000000</td>\n",
       "      <td>303.000000</td>\n",
       "      <td>303.000000</td>\n",
       "      <td>303.000000</td>\n",
       "      <td>303.000000</td>\n",
       "    </tr>\n",
       "    <tr>\n",
       "      <th>mean</th>\n",
       "      <td>54.366337</td>\n",
       "      <td>0.683168</td>\n",
       "      <td>0.966997</td>\n",
       "      <td>131.623762</td>\n",
       "      <td>246.264026</td>\n",
       "      <td>0.148515</td>\n",
       "      <td>0.528053</td>\n",
       "      <td>149.646865</td>\n",
       "      <td>0.326733</td>\n",
       "      <td>1.039604</td>\n",
       "      <td>1.399340</td>\n",
       "      <td>0.729373</td>\n",
       "      <td>2.313531</td>\n",
       "      <td>0.544554</td>\n",
       "    </tr>\n",
       "    <tr>\n",
       "      <th>std</th>\n",
       "      <td>9.082101</td>\n",
       "      <td>0.466011</td>\n",
       "      <td>1.032052</td>\n",
       "      <td>17.538143</td>\n",
       "      <td>51.830751</td>\n",
       "      <td>0.356198</td>\n",
       "      <td>0.525860</td>\n",
       "      <td>22.905161</td>\n",
       "      <td>0.469794</td>\n",
       "      <td>1.161075</td>\n",
       "      <td>0.616226</td>\n",
       "      <td>1.022606</td>\n",
       "      <td>0.612277</td>\n",
       "      <td>0.498835</td>\n",
       "    </tr>\n",
       "    <tr>\n",
       "      <th>min</th>\n",
       "      <td>29.000000</td>\n",
       "      <td>0.000000</td>\n",
       "      <td>0.000000</td>\n",
       "      <td>94.000000</td>\n",
       "      <td>126.000000</td>\n",
       "      <td>0.000000</td>\n",
       "      <td>0.000000</td>\n",
       "      <td>71.000000</td>\n",
       "      <td>0.000000</td>\n",
       "      <td>0.000000</td>\n",
       "      <td>0.000000</td>\n",
       "      <td>0.000000</td>\n",
       "      <td>0.000000</td>\n",
       "      <td>0.000000</td>\n",
       "    </tr>\n",
       "    <tr>\n",
       "      <th>25%</th>\n",
       "      <td>47.500000</td>\n",
       "      <td>0.000000</td>\n",
       "      <td>0.000000</td>\n",
       "      <td>120.000000</td>\n",
       "      <td>211.000000</td>\n",
       "      <td>0.000000</td>\n",
       "      <td>0.000000</td>\n",
       "      <td>133.500000</td>\n",
       "      <td>0.000000</td>\n",
       "      <td>0.000000</td>\n",
       "      <td>1.000000</td>\n",
       "      <td>0.000000</td>\n",
       "      <td>2.000000</td>\n",
       "      <td>0.000000</td>\n",
       "    </tr>\n",
       "    <tr>\n",
       "      <th>50%</th>\n",
       "      <td>55.000000</td>\n",
       "      <td>1.000000</td>\n",
       "      <td>1.000000</td>\n",
       "      <td>130.000000</td>\n",
       "      <td>240.000000</td>\n",
       "      <td>0.000000</td>\n",
       "      <td>1.000000</td>\n",
       "      <td>153.000000</td>\n",
       "      <td>0.000000</td>\n",
       "      <td>0.800000</td>\n",
       "      <td>1.000000</td>\n",
       "      <td>0.000000</td>\n",
       "      <td>2.000000</td>\n",
       "      <td>1.000000</td>\n",
       "    </tr>\n",
       "    <tr>\n",
       "      <th>75%</th>\n",
       "      <td>61.000000</td>\n",
       "      <td>1.000000</td>\n",
       "      <td>2.000000</td>\n",
       "      <td>140.000000</td>\n",
       "      <td>274.500000</td>\n",
       "      <td>0.000000</td>\n",
       "      <td>1.000000</td>\n",
       "      <td>166.000000</td>\n",
       "      <td>1.000000</td>\n",
       "      <td>1.600000</td>\n",
       "      <td>2.000000</td>\n",
       "      <td>1.000000</td>\n",
       "      <td>3.000000</td>\n",
       "      <td>1.000000</td>\n",
       "    </tr>\n",
       "    <tr>\n",
       "      <th>max</th>\n",
       "      <td>77.000000</td>\n",
       "      <td>1.000000</td>\n",
       "      <td>3.000000</td>\n",
       "      <td>200.000000</td>\n",
       "      <td>564.000000</td>\n",
       "      <td>1.000000</td>\n",
       "      <td>2.000000</td>\n",
       "      <td>202.000000</td>\n",
       "      <td>1.000000</td>\n",
       "      <td>6.200000</td>\n",
       "      <td>2.000000</td>\n",
       "      <td>4.000000</td>\n",
       "      <td>3.000000</td>\n",
       "      <td>1.000000</td>\n",
       "    </tr>\n",
       "  </tbody>\n",
       "</table>\n",
       "</div>"
      ],
      "text/plain": [
       "              age         sex          cp    trestbps        chol         fbs  \\\n",
       "count  303.000000  303.000000  303.000000  303.000000  303.000000  303.000000   \n",
       "mean    54.366337    0.683168    0.966997  131.623762  246.264026    0.148515   \n",
       "std      9.082101    0.466011    1.032052   17.538143   51.830751    0.356198   \n",
       "min     29.000000    0.000000    0.000000   94.000000  126.000000    0.000000   \n",
       "25%     47.500000    0.000000    0.000000  120.000000  211.000000    0.000000   \n",
       "50%     55.000000    1.000000    1.000000  130.000000  240.000000    0.000000   \n",
       "75%     61.000000    1.000000    2.000000  140.000000  274.500000    0.000000   \n",
       "max     77.000000    1.000000    3.000000  200.000000  564.000000    1.000000   \n",
       "\n",
       "          restecg     thalach       exang     oldpeak       slope          ca  \\\n",
       "count  303.000000  303.000000  303.000000  303.000000  303.000000  303.000000   \n",
       "mean     0.528053  149.646865    0.326733    1.039604    1.399340    0.729373   \n",
       "std      0.525860   22.905161    0.469794    1.161075    0.616226    1.022606   \n",
       "min      0.000000   71.000000    0.000000    0.000000    0.000000    0.000000   \n",
       "25%      0.000000  133.500000    0.000000    0.000000    1.000000    0.000000   \n",
       "50%      1.000000  153.000000    0.000000    0.800000    1.000000    0.000000   \n",
       "75%      1.000000  166.000000    1.000000    1.600000    2.000000    1.000000   \n",
       "max      2.000000  202.000000    1.000000    6.200000    2.000000    4.000000   \n",
       "\n",
       "             thal      target  \n",
       "count  303.000000  303.000000  \n",
       "mean     2.313531    0.544554  \n",
       "std      0.612277    0.498835  \n",
       "min      0.000000    0.000000  \n",
       "25%      2.000000    0.000000  \n",
       "50%      2.000000    1.000000  \n",
       "75%      3.000000    1.000000  \n",
       "max      3.000000    1.000000  "
      ]
     },
     "execution_count": 9,
     "metadata": {},
     "output_type": "execute_result"
    }
   ],
   "source": [
    "df.describe()"
   ]
  },
  {
   "cell_type": "markdown",
   "metadata": {},
   "source": [
    "**Heart Disease Frequency based on Age**"
   ]
  },
  {
   "cell_type": "code",
   "execution_count": 10,
   "metadata": {},
   "outputs": [
    {
     "data": {
      "image/png": "[encoded data removed]",
      "text/plain": [
       "<Figure size 432x288 with 1 Axes>"
      ]
     },
     "metadata": {
      "needs_background": "light"
     },
     "output_type": "display_data"
    }
   ],
   "source": [
    "sns.boxplot(df['target'],df['age'])\n",
    "plt.xlabel('0 for No disease and 1 for disease');"
   ]
  },
  {
   "cell_type": "markdown",
   "metadata": {},
   "source": [
    "**Heart Disease Frequency based on Sex**"
   ]
  },
  {
   "cell_type": "code",
   "execution_count": 11,
   "metadata": {},
   "outputs": [
    {
     "data": {
      "image/png": "[encoded data removed]",
      "text/plain": [
       "<Figure size 432x288 with 1 Axes>"
      ]
     },
     "metadata": {
      "needs_background": "light"
     },
     "output_type": "display_data"
    }
   ],
   "source": [
    "pd.crosstab(df['target'],df['sex']).plot(kind='bar',\n",
    "                                        color=['lightblue','pink'])\n",
    "plt.xlabel('1 for Disease & 0 for No Disease')\n",
    "plt.ylabel('Amount')\n",
    "plt.legend(['Female','Male']);"
   ]
  },
  {
   "cell_type": "markdown",
   "metadata": {},
   "source": [
    "**Heart Disease Frequency based on Chest Pain**"
   ]
  },
  {
   "cell_type": "code",
   "execution_count": 12,
   "metadata": {},
   "outputs": [
    {
     "data": {
      "image/png": "[encoded data removed]",
      "text/plain": [
       "<Figure size 432x288 with 1 Axes>"
      ]
     },
     "metadata": {
      "needs_background": "light"
     },
     "output_type": "display_data"
    }
   ],
   "source": [
    "pd.crosstab(df['target'],df['cp']).plot(kind='bar')\n",
    "                                        \n",
    "plt.xlabel('1 for Disease & 0 for No Disease')\n",
    "plt.ylabel('Amount');\n",
    "plt.legend(['Typical angina','Atypical angina','Non-anginal Pain','Asymptomatic']);"
   ]
  },
  {
   "cell_type": "markdown",
   "metadata": {},
   "source": [
    "**Heart Disease Frequency based on blood pressure**"
   ]
  },
  {
   "cell_type": "code",
   "execution_count": 13,
   "metadata": {},
   "outputs": [
    {
     "data": {
      "image/png": "[encoded data removed]",
      "text/plain": [
       "<Figure size 432x288 with 1 Axes>"
      ]
     },
     "metadata": {
      "needs_background": "light"
     },
     "output_type": "display_data"
    }
   ],
   "source": [
    "sns.boxplot(df['target'],df['trestbps'])\n",
    "plt.xlabel('0 for No disease and 1 for disease');"
   ]
  },
  {
   "cell_type": "markdown",
   "metadata": {},
   "source": [
    "**Heart Disease Frequency based on Cholestrol**"
   ]
  },
  {
   "cell_type": "code",
   "execution_count": 14,
   "metadata": {},
   "outputs": [
    {
     "data": {
      "image/png": "[encoded data removed]",
      "text/plain": [
       "<Figure size 432x288 with 1 Axes>"
      ]
     },
     "metadata": {
      "needs_background": "light"
     },
     "output_type": "display_data"
    }
   ],
   "source": [
    "sns.boxplot(df['target'],df['chol'])\n",
    "plt.xlabel('0 for No disease and 1 for disease');"
   ]
  },
  {
   "cell_type": "markdown",
   "metadata": {},
   "source": [
    "**Heart Disease Frequency based on Blood Sugar**"
   ]
  },
  {
   "cell_type": "code",
   "execution_count": 15,
   "metadata": {},
   "outputs": [
    {
     "data": {
      "image/png": "[encoded data removed]",
      "text/plain": [
       "<Figure size 432x288 with 1 Axes>"
      ]
     },
     "metadata": {
      "needs_background": "light"
     },
     "output_type": "display_data"
    }
   ],
   "source": [
    "pd.crosstab(df['target'],df['fbs']).plot(kind='bar',\n",
    "                                        color=['lightblue','pink'])\n",
    "plt.xlabel('1 for Disease & 0 for No Disease')\n",
    "plt.ylabel('Amount')\n",
    "plt.legend(['Not Diabetic','Diabetic']);"
   ]
  },
  {
   "cell_type": "markdown",
   "metadata": {},
   "source": [
    "**Age vs Max.Heart Rate**"
   ]
  },
  {
   "cell_type": "code",
   "execution_count": 16,
   "metadata": {},
   "outputs": [
    {
     "data": {
      "image/png": "[encoded data removed]",
      "text/plain": [
       "<Figure size 720x504 with 1 Axes>"
      ]
     },
     "metadata": {
      "needs_background": "light"
     },
     "output_type": "display_data"
    }
   ],
   "source": [
    "plt.figure(figsize=(10,7))\n",
    "plt.scatter(df['age'][df.target==0],df['thalach'][df.target==0],c='lightblue')\n",
    "plt.scatter(df['age'][df.target==1],df['thalach'][df.target==1],c='pink')\n",
    "plt.xlabel('Age')\n",
    "plt.ylabel('Max Heart Rate')\n",
    "plt.legend(['No disease','Disease']);"
   ]
  },
  {
   "cell_type": "markdown",
   "metadata": {},
   "source": [
    "**Correlation**"
   ]
  },
  {
   "cell_type": "code",
   "execution_count": 17,
   "metadata": {},
   "outputs": [
    {
     "data": {
      "image/png": "[encoded data removed]",
      "text/plain": [
       "<Figure size 720x504 with 2 Axes>"
      ]
     },
     "metadata": {
      "needs_background": "light"
     },
     "output_type": "display_data"
    }
   ],
   "source": [
    "plt.figure(figsize=(10,7))\n",
    "sns.heatmap(df.corr(),\n",
    "            annot=True,\n",
    "            cmap=\"YlGnBu\");"
   ]
  },
  {
   "cell_type": "markdown",
   "metadata": {},
   "source": [
    "## Statistical Tests"
   ]
  },
  {
   "cell_type": "code",
   "execution_count": 18,
   "metadata": {},
   "outputs": [
    {
     "data": {
      "text/html": [
       "<div>\n",
       "<style scoped>\n",
       "    .dataframe tbody tr th:only-of-type {\n",
       "        vertical-align: middle;\n",
       "    }\n",
       "\n",
       "    .dataframe tbody tr th {\n",
       "        vertical-align: top;\n",
       "    }\n",
       "\n",
       "    .dataframe thead th {\n",
       "        text-align: right;\n",
       "    }\n",
       "</style>\n",
       "<table border=\"1\" class=\"dataframe\">\n",
       "  <thead>\n",
       "    <tr style=\"text-align: right;\">\n",
       "      <th>fbs</th>\n",
       "      <th>0</th>\n",
       "      <th>1</th>\n",
       "    </tr>\n",
       "    <tr>\n",
       "      <th>target</th>\n",
       "      <th></th>\n",
       "      <th></th>\n",
       "    </tr>\n",
       "  </thead>\n",
       "  <tbody>\n",
       "    <tr>\n",
       "      <th>0</th>\n",
       "      <td>116</td>\n",
       "      <td>22</td>\n",
       "    </tr>\n",
       "    <tr>\n",
       "      <th>1</th>\n",
       "      <td>142</td>\n",
       "      <td>23</td>\n",
       "    </tr>\n",
       "  </tbody>\n",
       "</table>\n",
       "</div>"
      ],
      "text/plain": [
       "fbs       0   1\n",
       "target         \n",
       "0       116  22\n",
       "1       142  23"
      ]
     },
     "execution_count": 18,
     "metadata": {},
     "output_type": "execute_result"
    }
   ],
   "source": [
    "pd.crosstab(df['target'],df['fbs'])"
   ]
  },
  {
   "cell_type": "code",
   "execution_count": 19,
   "metadata": {},
   "outputs": [
    {
     "data": {
      "text/plain": [
       "0.6254155436518225"
      ]
     },
     "execution_count": 19,
     "metadata": {},
     "output_type": "execute_result"
    }
   ],
   "source": [
    "count = np.array([142,23])\n",
    "obs = np.array([258,45])\n",
    "_,p_value = proportions_ztest(count,obs)\n",
    "p_value"
   ]
  },
  {
   "cell_type": "markdown",
   "metadata": {},
   "source": [
    "**Fbs** is not a significant feature"
   ]
  },
  {
   "cell_type": "code",
   "execution_count": 20,
   "metadata": {},
   "outputs": [],
   "source": [
    "df_tar = df.groupby('target')\n",
    "df_tar0 = df_tar.get_group(0)\n",
    "df_tar1 = df_tar.get_group(1)"
   ]
  },
  {
   "cell_type": "code",
   "execution_count": 21,
   "metadata": {},
   "outputs": [
    {
     "data": {
      "text/plain": [
       "0.13879032695600638"
      ]
     },
     "execution_count": 21,
     "metadata": {},
     "output_type": "execute_result"
    }
   ],
   "source": [
    "_,p_value = ttest_ind(df_tar0['chol'],df_tar1['chol'])\n",
    "p_value"
   ]
  },
  {
   "cell_type": "markdown",
   "metadata": {},
   "source": [
    "**Chol** is not significant"
   ]
  },
  {
   "cell_type": "code",
   "execution_count": 22,
   "metadata": {},
   "outputs": [
    {
     "data": {
      "text/plain": [
       "0.011546059200233312"
      ]
     },
     "execution_count": 22,
     "metadata": {},
     "output_type": "execute_result"
    }
   ],
   "source": [
    "_,p_value = ttest_ind(df_tar0['trestbps'],df_tar1['trestbps'])\n",
    "p_value"
   ]
  },
  {
   "cell_type": "markdown",
   "metadata": {},
   "source": [
    "**Blood Pressure** is significant"
   ]
  },
  {
   "cell_type": "code",
   "execution_count": 23,
   "metadata": {},
   "outputs": [
    {
     "data": {
      "text/plain": [
       "0.006660598773498031"
      ]
     },
     "execution_count": 23,
     "metadata": {},
     "output_type": "execute_result"
    }
   ],
   "source": [
    "ct = pd.crosstab(df['target'],df['restecg'])\n",
    "chi_value,p_value,dof,ec = chi2_contingency(ct)\n",
    "p_value"
   ]
  },
  {
   "cell_type": "markdown",
   "metadata": {},
   "source": [
    "**RestECG** is significant"
   ]
  },
  {
   "cell_type": "markdown",
   "metadata": {},
   "source": [
    "**Fasting blood sugar, Cholestrol** is not significant in these features"
   ]
  },
  {
   "cell_type": "markdown",
   "metadata": {},
   "source": [
    "## Modelling"
   ]
  },
  {
   "cell_type": "code",
   "execution_count": 24,
   "metadata": {},
   "outputs": [
    {
     "data": {
      "text/html": [
       "<div>\n",
       "<style scoped>\n",
       "    .dataframe tbody tr th:only-of-type {\n",
       "        vertical-align: middle;\n",
       "    }\n",
       "\n",
       "    .dataframe tbody tr th {\n",
       "        vertical-align: top;\n",
       "    }\n",
       "\n",
       "    .dataframe thead th {\n",
       "        text-align: right;\n",
       "    }\n",
       "</style>\n",
       "<table border=\"1\" class=\"dataframe\">\n",
       "  <thead>\n",
       "    <tr style=\"text-align: right;\">\n",
       "      <th></th>\n",
       "      <th>age</th>\n",
       "      <th>sex</th>\n",
       "      <th>cp</th>\n",
       "      <th>trestbps</th>\n",
       "      <th>chol</th>\n",
       "      <th>fbs</th>\n",
       "      <th>restecg</th>\n",
       "      <th>thalach</th>\n",
       "      <th>exang</th>\n",
       "      <th>oldpeak</th>\n",
       "      <th>slope</th>\n",
       "      <th>ca</th>\n",
       "      <th>thal</th>\n",
       "      <th>target</th>\n",
       "    </tr>\n",
       "  </thead>\n",
       "  <tbody>\n",
       "    <tr>\n",
       "      <th>0</th>\n",
       "      <td>63</td>\n",
       "      <td>1</td>\n",
       "      <td>3</td>\n",
       "      <td>145</td>\n",
       "      <td>233</td>\n",
       "      <td>1</td>\n",
       "      <td>0</td>\n",
       "      <td>150</td>\n",
       "      <td>0</td>\n",
       "      <td>2.3</td>\n",
       "      <td>0</td>\n",
       "      <td>0</td>\n",
       "      <td>1</td>\n",
       "      <td>1</td>\n",
       "    </tr>\n",
       "    <tr>\n",
       "      <th>1</th>\n",
       "      <td>37</td>\n",
       "      <td>1</td>\n",
       "      <td>2</td>\n",
       "      <td>130</td>\n",
       "      <td>250</td>\n",
       "      <td>0</td>\n",
       "      <td>1</td>\n",
       "      <td>187</td>\n",
       "      <td>0</td>\n",
       "      <td>3.5</td>\n",
       "      <td>0</td>\n",
       "      <td>0</td>\n",
       "      <td>2</td>\n",
       "      <td>1</td>\n",
       "    </tr>\n",
       "    <tr>\n",
       "      <th>2</th>\n",
       "      <td>41</td>\n",
       "      <td>0</td>\n",
       "      <td>1</td>\n",
       "      <td>130</td>\n",
       "      <td>204</td>\n",
       "      <td>0</td>\n",
       "      <td>0</td>\n",
       "      <td>172</td>\n",
       "      <td>0</td>\n",
       "      <td>1.4</td>\n",
       "      <td>2</td>\n",
       "      <td>0</td>\n",
       "      <td>2</td>\n",
       "      <td>1</td>\n",
       "    </tr>\n",
       "    <tr>\n",
       "      <th>3</th>\n",
       "      <td>56</td>\n",
       "      <td>1</td>\n",
       "      <td>1</td>\n",
       "      <td>120</td>\n",
       "      <td>236</td>\n",
       "      <td>0</td>\n",
       "      <td>1</td>\n",
       "      <td>178</td>\n",
       "      <td>0</td>\n",
       "      <td>0.8</td>\n",
       "      <td>2</td>\n",
       "      <td>0</td>\n",
       "      <td>2</td>\n",
       "      <td>1</td>\n",
       "    </tr>\n",
       "    <tr>\n",
       "      <th>4</th>\n",
       "      <td>57</td>\n",
       "      <td>0</td>\n",
       "      <td>0</td>\n",
       "      <td>120</td>\n",
       "      <td>354</td>\n",
       "      <td>0</td>\n",
       "      <td>1</td>\n",
       "      <td>163</td>\n",
       "      <td>1</td>\n",
       "      <td>0.6</td>\n",
       "      <td>2</td>\n",
       "      <td>0</td>\n",
       "      <td>2</td>\n",
       "      <td>1</td>\n",
       "    </tr>\n",
       "  </tbody>\n",
       "</table>\n",
       "</div>"
      ],
      "text/plain": [
       "   age  sex  cp  trestbps  chol  fbs  restecg  thalach  exang  oldpeak  slope  \\\n",
       "0   63    1   3       145   233    1        0      150      0      2.3      0   \n",
       "1   37    1   2       130   250    0        1      187      0      3.5      0   \n",
       "2   41    0   1       130   204    0        0      172      0      1.4      2   \n",
       "3   56    1   1       120   236    0        1      178      0      0.8      2   \n",
       "4   57    0   0       120   354    0        1      163      1      0.6      2   \n",
       "\n",
       "   ca  thal  target  \n",
       "0   0     1       1  \n",
       "1   0     2       1  \n",
       "2   0     2       1  \n",
       "3   0     2       1  \n",
       "4   0     2       1  "
      ]
     },
     "execution_count": 24,
     "metadata": {},
     "output_type": "execute_result"
    }
   ],
   "source": [
    "df.head()"
   ]
  },
  {
   "cell_type": "code",
   "execution_count": 25,
   "metadata": {},
   "outputs": [],
   "source": [
    "# Removing insignificant features\n",
    "df.drop(['fbs','chol'],axis=1,inplace=True)"
   ]
  },
  {
   "cell_type": "code",
   "execution_count": 26,
   "metadata": {},
   "outputs": [],
   "source": [
    "# Splitting X and y\n",
    "X = df.drop('target',axis=1)\n",
    "y = df['target']"
   ]
  },
  {
   "cell_type": "code",
   "execution_count": 27,
   "metadata": {},
   "outputs": [
    {
     "data": {
      "text/html": [
       "<div>\n",
       "<style scoped>\n",
       "    .dataframe tbody tr th:only-of-type {\n",
       "        vertical-align: middle;\n",
       "    }\n",
       "\n",
       "    .dataframe tbody tr th {\n",
       "        vertical-align: top;\n",
       "    }\n",
       "\n",
       "    .dataframe thead th {\n",
       "        text-align: right;\n",
       "    }\n",
       "</style>\n",
       "<table border=\"1\" class=\"dataframe\">\n",
       "  <thead>\n",
       "    <tr style=\"text-align: right;\">\n",
       "      <th></th>\n",
       "      <th>age</th>\n",
       "      <th>sex</th>\n",
       "      <th>cp</th>\n",
       "      <th>trestbps</th>\n",
       "      <th>restecg</th>\n",
       "      <th>thalach</th>\n",
       "      <th>exang</th>\n",
       "      <th>oldpeak</th>\n",
       "      <th>slope</th>\n",
       "      <th>ca</th>\n",
       "      <th>thal</th>\n",
       "    </tr>\n",
       "  </thead>\n",
       "  <tbody>\n",
       "    <tr>\n",
       "      <th>0</th>\n",
       "      <td>63</td>\n",
       "      <td>1</td>\n",
       "      <td>3</td>\n",
       "      <td>145</td>\n",
       "      <td>0</td>\n",
       "      <td>150</td>\n",
       "      <td>0</td>\n",
       "      <td>2.3</td>\n",
       "      <td>0</td>\n",
       "      <td>0</td>\n",
       "      <td>1</td>\n",
       "    </tr>\n",
       "    <tr>\n",
       "      <th>1</th>\n",
       "      <td>37</td>\n",
       "      <td>1</td>\n",
       "      <td>2</td>\n",
       "      <td>130</td>\n",
       "      <td>1</td>\n",
       "      <td>187</td>\n",
       "      <td>0</td>\n",
       "      <td>3.5</td>\n",
       "      <td>0</td>\n",
       "      <td>0</td>\n",
       "      <td>2</td>\n",
       "    </tr>\n",
       "    <tr>\n",
       "      <th>2</th>\n",
       "      <td>41</td>\n",
       "      <td>0</td>\n",
       "      <td>1</td>\n",
       "      <td>130</td>\n",
       "      <td>0</td>\n",
       "      <td>172</td>\n",
       "      <td>0</td>\n",
       "      <td>1.4</td>\n",
       "      <td>2</td>\n",
       "      <td>0</td>\n",
       "      <td>2</td>\n",
       "    </tr>\n",
       "    <tr>\n",
       "      <th>3</th>\n",
       "      <td>56</td>\n",
       "      <td>1</td>\n",
       "      <td>1</td>\n",
       "      <td>120</td>\n",
       "      <td>1</td>\n",
       "      <td>178</td>\n",
       "      <td>0</td>\n",
       "      <td>0.8</td>\n",
       "      <td>2</td>\n",
       "      <td>0</td>\n",
       "      <td>2</td>\n",
       "    </tr>\n",
       "    <tr>\n",
       "      <th>4</th>\n",
       "      <td>57</td>\n",
       "      <td>0</td>\n",
       "      <td>0</td>\n",
       "      <td>120</td>\n",
       "      <td>1</td>\n",
       "      <td>163</td>\n",
       "      <td>1</td>\n",
       "      <td>0.6</td>\n",
       "      <td>2</td>\n",
       "      <td>0</td>\n",
       "      <td>2</td>\n",
       "    </tr>\n",
       "  </tbody>\n",
       "</table>\n",
       "</div>"
      ],
      "text/plain": [
       "   age  sex  cp  trestbps  restecg  thalach  exang  oldpeak  slope  ca  thal\n",
       "0   63    1   3       145        0      150      0      2.3      0   0     1\n",
       "1   37    1   2       130        1      187      0      3.5      0   0     2\n",
       "2   41    0   1       130        0      172      0      1.4      2   0     2\n",
       "3   56    1   1       120        1      178      0      0.8      2   0     2\n",
       "4   57    0   0       120        1      163      1      0.6      2   0     2"
      ]
     },
     "execution_count": 27,
     "metadata": {},
     "output_type": "execute_result"
    }
   ],
   "source": [
    "X.head()"
   ]
  },
  {
   "cell_type": "code",
   "execution_count": 28,
   "metadata": {},
   "outputs": [],
   "source": [
    "# Fixing seed level\n",
    "np.random.seed(42)\n",
    "\n",
    "# Train-Test Split\n",
    "X_train, X_test, y_train, y_test = train_test_split(X,\n",
    "                                                    y,\n",
    "                                                    test_size=0.2)"
   ]
  },
  {
   "cell_type": "markdown",
   "metadata": {},
   "source": [
    "We will check four models\n",
    "1. Logistic Regression\n",
    "2. KNeighborsClassifier\n",
    "3. DecisionTreeClassifier\n",
    "4. RandomForestClassifier"
   ]
  },
  {
   "cell_type": "code",
   "execution_count": 29,
   "metadata": {},
   "outputs": [],
   "source": [
    "# Models Dictionary\n",
    "models = {'Logistic':LogisticRegression(),\n",
    "          'K Nearest':KNeighborsClassifier(),\n",
    "          'Decision Tree':DecisionTreeClassifier(),\n",
    "          'Random Forest':RandomForestClassifier()}\n",
    "\n",
    "# Results Storage\n",
    "results_score = {}"
   ]
  },
  {
   "cell_type": "code",
   "execution_count": 30,
   "metadata": {},
   "outputs": [
    {
     "name": "stderr",
     "output_type": "stream",
     "text": [
      "C:\\Users\\pravi\\Anaconda3\\lib\\site-packages\\sklearn\\linear_model\\_logistic.py:764: ConvergenceWarning: lbfgs failed to converge (status=1):\n",
      "STOP: TOTAL NO. of ITERATIONS REACHED LIMIT.\n",
      "\n",
      "Increase the number of iterations (max_iter) or scale the data as shown in:\n",
      "    https://scikit-learn.org/stable/modules/preprocessing.html\n",
      "Please also refer to the documentation for alternative solver options:\n",
      "    https://scikit-learn.org/stable/modules/linear_model.html#logistic-regression\n",
      "  extra_warning_msg=_LOGISTIC_SOLVER_CONVERGENCE_MSG)\n"
     ]
    }
   ],
   "source": [
    "# Model Operation\n",
    "for model_name,model in models.items():\n",
    "    np.random.seed(42)\n",
    "    model.fit(X_train,y_train)\n",
    "    results_score[model_name] = model.score(X_test,y_test)"
   ]
  },
  {
   "cell_type": "code",
   "execution_count": 31,
   "metadata": {},
   "outputs": [
    {
     "name": "stdout",
     "output_type": "stream",
     "text": [
      "('Logistic', 0.8852459016393442)\n",
      "('K Nearest', 0.6229508196721312)\n",
      "('Decision Tree', 0.8360655737704918)\n",
      "('Random Forest', 0.8524590163934426)\n"
     ]
    }
   ],
   "source": [
    "for i in results_score.items():\n",
    "    print(i)"
   ]
  },
  {
   "cell_type": "code",
   "execution_count": 32,
   "metadata": {},
   "outputs": [
    {
     "data": {
      "image/png": "[encoded data removed]",
      "text/plain": [
       "<Figure size 432x288 with 1 Axes>"
      ]
     },
     "metadata": {
      "needs_background": "light"
     },
     "output_type": "display_data"
    }
   ],
   "source": [
    "# Plotting\n",
    "comparison = pd.DataFrame(results_score,index=['Accuracy'])\n",
    "comparison.T.plot(kind='bar',color='green',title='Accuracy',legend=False);"
   ]
  },
  {
   "cell_type": "markdown",
   "metadata": {},
   "source": [
    "Logistic Regression is found having highest accuracy"
   ]
  },
  {
   "cell_type": "markdown",
   "metadata": {},
   "source": [
    "**Train & Test Scores**"
   ]
  },
  {
   "cell_type": "markdown",
   "metadata": {},
   "source": [
    "We should also check train and test scores"
   ]
  },
  {
   "cell_type": "code",
   "execution_count": 33,
   "metadata": {},
   "outputs": [],
   "source": [
    "# Train Test Scores\n",
    "train_score = {}\n",
    "test_score = {}"
   ]
  },
  {
   "cell_type": "code",
   "execution_count": 34,
   "metadata": {},
   "outputs": [
    {
     "name": "stderr",
     "output_type": "stream",
     "text": [
      "C:\\Users\\pravi\\Anaconda3\\lib\\site-packages\\sklearn\\linear_model\\_logistic.py:764: ConvergenceWarning: lbfgs failed to converge (status=1):\n",
      "STOP: TOTAL NO. of ITERATIONS REACHED LIMIT.\n",
      "\n",
      "Increase the number of iterations (max_iter) or scale the data as shown in:\n",
      "    https://scikit-learn.org/stable/modules/preprocessing.html\n",
      "Please also refer to the documentation for alternative solver options:\n",
      "    https://scikit-learn.org/stable/modules/linear_model.html#logistic-regression\n",
      "  extra_warning_msg=_LOGISTIC_SOLVER_CONVERGENCE_MSG)\n"
     ]
    }
   ],
   "source": [
    "# Model Operation\n",
    "for model_name,model in models.items():\n",
    "    np.random.seed(42)\n",
    "    model.fit(X_train,y_train)\n",
    "    train_score[model_name] = model.score(X_train,y_train)\n",
    "    test_score[model_name] = model.score(X_test,y_test)"
   ]
  },
  {
   "cell_type": "code",
   "execution_count": 35,
   "metadata": {},
   "outputs": [
    {
     "name": "stdout",
     "output_type": "stream",
     "text": [
      "Train Scores :{'Logistic': 0.8512396694214877, 'K Nearest': 0.7603305785123967, 'Decision Tree': 1.0, 'Random Forest': 1.0}\n",
      "Test Scores :{'Logistic': 0.8852459016393442, 'K Nearest': 0.6229508196721312, 'Decision Tree': 0.8360655737704918, 'Random Forest': 0.8524590163934426}\n"
     ]
    }
   ],
   "source": [
    "print(f'Train Scores :{train_score}')\n",
    "print(f'Test Scores :{test_score}')    "
   ]
  },
  {
   "cell_type": "code",
   "execution_count": 36,
   "metadata": {},
   "outputs": [],
   "source": [
    "# Train and Test Scores\n",
    "train = pd.DataFrame(train_score,index=['train'])\n",
    "test = pd.DataFrame(test_score,index=['test'])"
   ]
  },
  {
   "cell_type": "code",
   "execution_count": 37,
   "metadata": {},
   "outputs": [
    {
     "data": {
      "text/html": [
       "<div>\n",
       "<style scoped>\n",
       "    .dataframe tbody tr th:only-of-type {\n",
       "        vertical-align: middle;\n",
       "    }\n",
       "\n",
       "    .dataframe tbody tr th {\n",
       "        vertical-align: top;\n",
       "    }\n",
       "\n",
       "    .dataframe thead th {\n",
       "        text-align: right;\n",
       "    }\n",
       "</style>\n",
       "<table border=\"1\" class=\"dataframe\">\n",
       "  <thead>\n",
       "    <tr style=\"text-align: right;\">\n",
       "      <th></th>\n",
       "      <th>Logistic</th>\n",
       "      <th>K Nearest</th>\n",
       "      <th>Decision Tree</th>\n",
       "      <th>Random Forest</th>\n",
       "    </tr>\n",
       "  </thead>\n",
       "  <tbody>\n",
       "    <tr>\n",
       "      <th>train</th>\n",
       "      <td>0.851240</td>\n",
       "      <td>0.760331</td>\n",
       "      <td>1.000000</td>\n",
       "      <td>1.000000</td>\n",
       "    </tr>\n",
       "    <tr>\n",
       "      <th>test</th>\n",
       "      <td>0.885246</td>\n",
       "      <td>0.622951</td>\n",
       "      <td>0.836066</td>\n",
       "      <td>0.852459</td>\n",
       "    </tr>\n",
       "  </tbody>\n",
       "</table>\n",
       "</div>"
      ],
      "text/plain": [
       "       Logistic  K Nearest  Decision Tree  Random Forest\n",
       "train  0.851240   0.760331       1.000000       1.000000\n",
       "test   0.885246   0.622951       0.836066       0.852459"
      ]
     },
     "execution_count": 37,
     "metadata": {},
     "output_type": "execute_result"
    }
   ],
   "source": [
    "combined = pd.concat([train,test])\n",
    "combined"
   ]
  },
  {
   "cell_type": "code",
   "execution_count": 38,
   "metadata": {},
   "outputs": [
    {
     "data": {
      "image/png": "[encoded data removed]",
      "text/plain": [
       "<Figure size 432x288 with 1 Axes>"
      ]
     },
     "metadata": {
      "needs_background": "light"
     },
     "output_type": "display_data"
    }
   ],
   "source": [
    "# Plotting train and test scores\n",
    "combined.T.plot(kind='bar',color=['Red','Green']);"
   ]
  },
  {
   "cell_type": "markdown",
   "metadata": {},
   "source": [
    "Best fit model is **Logistic Regression**"
   ]
  },
  {
   "cell_type": "markdown",
   "metadata": {},
   "source": [
    "**Hyper Parameter Model**"
   ]
  },
  {
   "cell_type": "code",
   "execution_count": 39,
   "metadata": {},
   "outputs": [],
   "source": [
    "# Logistic Regression Grid\n",
    "log_reg_grid = {'C':np.logspace(-4,4,20),\n",
    "                'solver':['liblinear']}\n",
    "\n",
    "# KNN Grid\n",
    "knn_grid = {'n_neighbors':np.arange(1,21)}\n",
    "\n",
    "# Decision Tree Grid\n",
    "dt_grid = {'criterion':['gini','entropy']}\n",
    "\n",
    "# Random Forest Grid\n",
    "rf_grid = {\"n_estimators\": np.arange(10, 1000, 50),\n",
    "           \"max_depth\": [None, 3, 5, 10],\n",
    "           \"min_samples_split\": np.arange(2, 20, 2),\n",
    "           \"min_samples_leaf\": np.arange(1, 20, 2)}"
   ]
  },
  {
   "cell_type": "markdown",
   "metadata": {},
   "source": [
    "**Randomized Search CV**"
   ]
  },
  {
   "cell_type": "code",
   "execution_count": 40,
   "metadata": {},
   "outputs": [
    {
     "name": "stdout",
     "output_type": "stream",
     "text": [
      "Fitting 5 folds for each of 20 candidates, totalling 100 fits\n",
      "[CV] solver=liblinear, C=0.0001 ......................................\n",
      "[CV] ....................... solver=liblinear, C=0.0001, total=   0.0s\n",
      "[CV] solver=liblinear, C=0.0001 ......................................\n",
      "[CV] ....................... solver=liblinear, C=0.0001, total=   0.0s\n",
      "[CV] solver=liblinear, C=0.0001 ......................................\n",
      "[CV] ....................... solver=liblinear, C=0.0001, total=   0.0s\n",
      "[CV] solver=liblinear, C=0.0001 ......................................\n",
      "[CV] ....................... solver=liblinear, C=0.0001, total=   0.0s\n",
      "[CV] solver=liblinear, C=0.0001 ......................................\n",
      "[CV] ....................... solver=liblinear, C=0.0001, total=   0.0s\n",
      "[CV] solver=liblinear, C=0.00026366508987303583 ......................\n",
      "[CV] ....... solver=liblinear, C=0.00026366508987303583, total=   0.0s\n",
      "[CV] solver=liblinear, C=0.00026366508987303583 ......................\n",
      "[CV] ....... solver=liblinear, C=0.00026366508987303583, total=   0.0s\n",
      "[CV] solver=liblinear, C=0.00026366508987303583 ......................\n",
      "[CV] ....... solver=liblinear, C=0.00026366508987303583, total=   0.0s\n",
      "[CV] solver=liblinear, C=0.00026366508987303583 ......................\n",
      "[CV] ....... solver=liblinear, C=0.00026366508987303583, total=   0.0s\n",
      "[CV] solver=liblinear, C=0.00026366508987303583 ......................\n",
      "[CV] ....... solver=liblinear, C=0.00026366508987303583, total=   0.0s\n",
      "[CV] solver=liblinear, C=0.0006951927961775605 .......................\n",
      "[CV] ........ solver=liblinear, C=0.0006951927961775605, total=   0.0s\n",
      "[CV] solver=liblinear, C=0.0006951927961775605 .......................\n",
      "[CV] ........ solver=liblinear, C=0.0006951927961775605, total=   0.0s\n",
      "[CV] solver=liblinear, C=0.0006951927961775605 .......................\n",
      "[CV] ........ solver=liblinear, C=0.0006951927961775605, total=   0.0s\n",
      "[CV] solver=liblinear, C=0.0006951927961775605 .......................\n",
      "[CV] ........ solver=liblinear, C=0.0006951927961775605, total=   0.0s\n",
      "[CV] solver=liblinear, C=0.0006951927961775605 .......................\n",
      "[CV] ........ solver=liblinear, C=0.0006951927961775605, total=   0.0s\n",
      "[CV] solver=liblinear, C=0.0018329807108324356 .......................\n",
      "[CV] ........ solver=liblinear, C=0.0018329807108324356, total=   0.0s\n",
      "[CV] solver=liblinear, C=0.0018329807108324356 .......................\n",
      "[CV] ........ solver=liblinear, C=0.0018329807108324356, total=   0.0s\n",
      "[CV] solver=liblinear, C=0.0018329807108324356 .......................\n",
      "[CV] ........ solver=liblinear, C=0.0018329807108324356, total=   0.0s\n",
      "[CV] solver=liblinear, C=0.0018329807108324356 .......................\n",
      "[CV] ........ solver=liblinear, C=0.0018329807108324356, total=   0.0s\n",
      "[CV] solver=liblinear, C=0.0018329807108324356 .......................\n",
      "[CV] ........ solver=liblinear, C=0.0018329807108324356, total=   0.0s\n",
      "[CV] solver=liblinear, C=0.004832930238571752 ........................\n",
      "[CV] ......... solver=liblinear, C=0.004832930238571752, total=   0.0s\n",
      "[CV] solver=liblinear, C=0.004832930238571752 ........................\n",
      "[CV] ......... solver=liblinear, C=0.004832930238571752, total=   0.0s\n",
      "[CV] solver=liblinear, C=0.004832930238571752 ........................\n",
      "[CV] ......... solver=liblinear, C=0.004832930238571752, total=   0.0s\n",
      "[CV] solver=liblinear, C=0.004832930238571752 ........................\n"
     ]
    },
    {
     "name": "stderr",
     "output_type": "stream",
     "text": [
      "[Parallel(n_jobs=1)]: Using backend SequentialBackend with 1 concurrent workers.\n",
      "[Parallel(n_jobs=1)]: Done   1 out of   1 | elapsed:    0.0s remaining:    0.0s\n"
     ]
    },
    {
     "name": "stdout",
     "output_type": "stream",
     "text": [
      "[CV] ......... solver=liblinear, C=0.004832930238571752, total=   0.0s\n",
      "[CV] solver=liblinear, C=0.004832930238571752 ........................\n",
      "[CV] ......... solver=liblinear, C=0.004832930238571752, total=   0.0s\n",
      "[CV] solver=liblinear, C=0.012742749857031334 ........................\n",
      "[CV] ......... solver=liblinear, C=0.012742749857031334, total=   0.0s\n",
      "[CV] solver=liblinear, C=0.012742749857031334 ........................\n",
      "[CV] ......... solver=liblinear, C=0.012742749857031334, total=   0.0s\n",
      "[CV] solver=liblinear, C=0.012742749857031334 ........................\n",
      "[CV] ......... solver=liblinear, C=0.012742749857031334, total=   0.0s\n",
      "[CV] solver=liblinear, C=0.012742749857031334 ........................\n",
      "[CV] ......... solver=liblinear, C=0.012742749857031334, total=   0.0s\n",
      "[CV] solver=liblinear, C=0.012742749857031334 ........................\n",
      "[CV] ......... solver=liblinear, C=0.012742749857031334, total=   0.0s\n",
      "[CV] solver=liblinear, C=0.03359818286283781 .........................\n",
      "[CV] .......... solver=liblinear, C=0.03359818286283781, total=   0.0s\n",
      "[CV] solver=liblinear, C=0.03359818286283781 .........................\n",
      "[CV] .......... solver=liblinear, C=0.03359818286283781, total=   0.0s\n",
      "[CV] solver=liblinear, C=0.03359818286283781 .........................\n",
      "[CV] .......... solver=liblinear, C=0.03359818286283781, total=   0.0s\n",
      "[CV] solver=liblinear, C=0.03359818286283781 .........................\n",
      "[CV] .......... solver=liblinear, C=0.03359818286283781, total=   0.0s\n",
      "[CV] solver=liblinear, C=0.03359818286283781 .........................\n",
      "[CV] .......... solver=liblinear, C=0.03359818286283781, total=   0.0s\n",
      "[CV] solver=liblinear, C=0.08858667904100823 .........................\n",
      "[CV] .......... solver=liblinear, C=0.08858667904100823, total=   0.0s\n",
      "[CV] solver=liblinear, C=0.08858667904100823 .........................\n",
      "[CV] .......... solver=liblinear, C=0.08858667904100823, total=   0.0s\n",
      "[CV] solver=liblinear, C=0.08858667904100823 .........................\n",
      "[CV] .......... solver=liblinear, C=0.08858667904100823, total=   0.0s\n",
      "[CV] solver=liblinear, C=0.08858667904100823 .........................\n",
      "[CV] .......... solver=liblinear, C=0.08858667904100823, total=   0.0s\n",
      "[CV] solver=liblinear, C=0.08858667904100823 .........................\n",
      "[CV] .......... solver=liblinear, C=0.08858667904100823, total=   0.0s\n",
      "[CV] solver=liblinear, C=0.23357214690901212 .........................\n",
      "[CV] .......... solver=liblinear, C=0.23357214690901212, total=   0.0s\n",
      "[CV] solver=liblinear, C=0.23357214690901212 .........................\n",
      "[CV] .......... solver=liblinear, C=0.23357214690901212, total=   0.0s\n",
      "[CV] solver=liblinear, C=0.23357214690901212 .........................\n",
      "[CV] .......... solver=liblinear, C=0.23357214690901212, total=   0.0s\n",
      "[CV] solver=liblinear, C=0.23357214690901212 .........................\n",
      "[CV] .......... solver=liblinear, C=0.23357214690901212, total=   0.0s\n",
      "[CV] solver=liblinear, C=0.23357214690901212 .........................\n",
      "[CV] .......... solver=liblinear, C=0.23357214690901212, total=   0.0s\n",
      "[CV] solver=liblinear, C=0.615848211066026 ...........................\n",
      "[CV] ............ solver=liblinear, C=0.615848211066026, total=   0.0s\n",
      "[CV] solver=liblinear, C=0.615848211066026 ...........................\n",
      "[CV] ............ solver=liblinear, C=0.615848211066026, total=   0.0s\n",
      "[CV] solver=liblinear, C=0.615848211066026 ...........................\n",
      "[CV] ............ solver=liblinear, C=0.615848211066026, total=   0.0s\n",
      "[CV] solver=liblinear, C=0.615848211066026 ...........................\n",
      "[CV] ............ solver=liblinear, C=0.615848211066026, total=   0.0s\n",
      "[CV] solver=liblinear, C=0.615848211066026 ...........................\n",
      "[CV] ............ solver=liblinear, C=0.615848211066026, total=   0.0s\n",
      "[CV] solver=liblinear, C=1.623776739188721 ...........................\n",
      "[CV] ............ solver=liblinear, C=1.623776739188721, total=   0.0s\n",
      "[CV] solver=liblinear, C=1.623776739188721 ...........................\n",
      "[CV] ............ solver=liblinear, C=1.623776739188721, total=   0.0s\n",
      "[CV] solver=liblinear, C=1.623776739188721 ...........................\n",
      "[CV] ............ solver=liblinear, C=1.623776739188721, total=   0.0s\n",
      "[CV] solver=liblinear, C=1.623776739188721 ...........................\n",
      "[CV] ............ solver=liblinear, C=1.623776739188721, total=   0.0s\n",
      "[CV] solver=liblinear, C=1.623776739188721 ...........................\n",
      "[CV] ............ solver=liblinear, C=1.623776739188721, total=   0.0s\n",
      "[CV] solver=liblinear, C=4.281332398719396 ...........................\n",
      "[CV] ............ solver=liblinear, C=4.281332398719396, total=   0.0s\n",
      "[CV] solver=liblinear, C=4.281332398719396 ...........................\n",
      "[CV] ............ solver=liblinear, C=4.281332398719396, total=   0.0s\n",
      "[CV] solver=liblinear, C=4.281332398719396 ...........................\n",
      "[CV] ............ solver=liblinear, C=4.281332398719396, total=   0.0s\n",
      "[CV] solver=liblinear, C=4.281332398719396 ...........................\n",
      "[CV] ............ solver=liblinear, C=4.281332398719396, total=   0.0s\n",
      "[CV] solver=liblinear, C=4.281332398719396 ...........................\n",
      "[CV] ............ solver=liblinear, C=4.281332398719396, total=   0.0s\n",
      "[CV] solver=liblinear, C=11.288378916846883 ..........................\n",
      "[CV] ........... solver=liblinear, C=11.288378916846883, total=   0.0s\n",
      "[CV] solver=liblinear, C=11.288378916846883 ..........................\n",
      "[CV] ........... solver=liblinear, C=11.288378916846883, total=   0.0s\n",
      "[CV] solver=liblinear, C=11.288378916846883 ..........................\n",
      "[CV] ........... solver=liblinear, C=11.288378916846883, total=   0.0s\n",
      "[CV] solver=liblinear, C=11.288378916846883 ..........................\n",
      "[CV] ........... solver=liblinear, C=11.288378916846883, total=   0.0s\n",
      "[CV] solver=liblinear, C=11.288378916846883 ..........................\n",
      "[CV] ........... solver=liblinear, C=11.288378916846883, total=   0.0s\n",
      "[CV] solver=liblinear, C=29.763514416313132 ..........................\n",
      "[CV] ........... solver=liblinear, C=29.763514416313132, total=   0.0s\n",
      "[CV] solver=liblinear, C=29.763514416313132 ..........................\n",
      "[CV] ........... solver=liblinear, C=29.763514416313132, total=   0.0s\n",
      "[CV] solver=liblinear, C=29.763514416313132 ..........................\n",
      "[CV] ........... solver=liblinear, C=29.763514416313132, total=   0.0s\n",
      "[CV] solver=liblinear, C=29.763514416313132 ..........................\n",
      "[CV] ........... solver=liblinear, C=29.763514416313132, total=   0.0s\n",
      "[CV] solver=liblinear, C=29.763514416313132 ..........................\n",
      "[CV] ........... solver=liblinear, C=29.763514416313132, total=   0.0s\n",
      "[CV] solver=liblinear, C=78.47599703514607 ...........................\n",
      "[CV] ............ solver=liblinear, C=78.47599703514607, total=   0.0s\n",
      "[CV] solver=liblinear, C=78.47599703514607 ...........................\n",
      "[CV] ............ solver=liblinear, C=78.47599703514607, total=   0.0s\n",
      "[CV] solver=liblinear, C=78.47599703514607 ...........................\n",
      "[CV] ............ solver=liblinear, C=78.47599703514607, total=   0.0s\n",
      "[CV] solver=liblinear, C=78.47599703514607 ...........................\n",
      "[CV] ............ solver=liblinear, C=78.47599703514607, total=   0.0s\n",
      "[CV] solver=liblinear, C=78.47599703514607 ...........................\n",
      "[CV] ............ solver=liblinear, C=78.47599703514607, total=   0.0s\n",
      "[CV] solver=liblinear, C=206.913808111479 ............................\n",
      "[CV] ............. solver=liblinear, C=206.913808111479, total=   0.0s\n",
      "[CV] solver=liblinear, C=206.913808111479 ............................\n",
      "[CV] ............. solver=liblinear, C=206.913808111479, total=   0.0s\n",
      "[CV] solver=liblinear, C=206.913808111479 ............................\n",
      "[CV] ............. solver=liblinear, C=206.913808111479, total=   0.0s\n",
      "[CV] solver=liblinear, C=206.913808111479 ............................\n",
      "[CV] ............. solver=liblinear, C=206.913808111479, total=   0.0s\n",
      "[CV] solver=liblinear, C=206.913808111479 ............................\n",
      "[CV] ............. solver=liblinear, C=206.913808111479, total=   0.0s\n",
      "[CV] solver=liblinear, C=545.5594781168514 ...........................\n",
      "[CV] ............ solver=liblinear, C=545.5594781168514, total=   0.0s\n",
      "[CV] solver=liblinear, C=545.5594781168514 ...........................\n",
      "[CV] ............ solver=liblinear, C=545.5594781168514, total=   0.0s\n",
      "[CV] solver=liblinear, C=545.5594781168514 ...........................\n",
      "[CV] ............ solver=liblinear, C=545.5594781168514, total=   0.0s\n",
      "[CV] solver=liblinear, C=545.5594781168514 ...........................\n",
      "[CV] ............ solver=liblinear, C=545.5594781168514, total=   0.0s\n",
      "[CV] solver=liblinear, C=545.5594781168514 ...........................\n",
      "[CV] ............ solver=liblinear, C=545.5594781168514, total=   0.0s\n",
      "[CV] solver=liblinear, C=1438.44988828766 ............................\n",
      "[CV] ............. solver=liblinear, C=1438.44988828766, total=   0.0s\n",
      "[CV] solver=liblinear, C=1438.44988828766 ............................\n",
      "[CV] ............. solver=liblinear, C=1438.44988828766, total=   0.0s\n",
      "[CV] solver=liblinear, C=1438.44988828766 ............................\n",
      "[CV] ............. solver=liblinear, C=1438.44988828766, total=   0.0s\n",
      "[CV] solver=liblinear, C=1438.44988828766 ............................\n",
      "[CV] ............. solver=liblinear, C=1438.44988828766, total=   0.0s\n",
      "[CV] solver=liblinear, C=1438.44988828766 ............................\n",
      "[CV] ............. solver=liblinear, C=1438.44988828766, total=   0.0s\n",
      "[CV] solver=liblinear, C=3792.690190732246 ...........................\n",
      "[CV] ............ solver=liblinear, C=3792.690190732246, total=   0.0s\n",
      "[CV] solver=liblinear, C=3792.690190732246 ...........................\n",
      "[CV] ............ solver=liblinear, C=3792.690190732246, total=   0.0s\n",
      "[CV] solver=liblinear, C=3792.690190732246 ...........................\n",
      "[CV] ............ solver=liblinear, C=3792.690190732246, total=   0.0s\n",
      "[CV] solver=liblinear, C=3792.690190732246 ...........................\n",
      "[CV] ............ solver=liblinear, C=3792.690190732246, total=   0.0s\n",
      "[CV] solver=liblinear, C=3792.690190732246 ...........................\n",
      "[CV] ............ solver=liblinear, C=3792.690190732246, total=   0.0s\n",
      "[CV] solver=liblinear, C=10000.0 .....................................\n",
      "[CV] ...................... solver=liblinear, C=10000.0, total=   0.0s\n",
      "[CV] solver=liblinear, C=10000.0 .....................................\n",
      "[CV] ...................... solver=liblinear, C=10000.0, total=   0.0s\n",
      "[CV] solver=liblinear, C=10000.0 .....................................\n",
      "[CV] ...................... solver=liblinear, C=10000.0, total=   0.0s\n",
      "[CV] solver=liblinear, C=10000.0 .....................................\n",
      "[CV] ...................... solver=liblinear, C=10000.0, total=   0.0s\n",
      "[CV] solver=liblinear, C=10000.0 .....................................\n",
      "[CV] ...................... solver=liblinear, C=10000.0, total=   0.0s\n"
     ]
    },
    {
     "name": "stderr",
     "output_type": "stream",
     "text": [
      "[Parallel(n_jobs=1)]: Done 100 out of 100 | elapsed:    0.6s finished\n"
     ]
    }
   ],
   "source": [
    "# Tuning Logistic Regression\n",
    "np.random.seed(42)\n",
    "\n",
    "# Randomized Search CV\n",
    "rs_log_reg = RandomizedSearchCV(LogisticRegression(),\n",
    "                   param_distributions=log_reg_grid,\n",
    "                   cv=5,\n",
    "                   n_iter=20,\n",
    "                   verbose=2)\n",
    "\n",
    "# Fitting model\n",
    "rs_log_reg.fit(X_train,y_train);"
   ]
  },
  {
   "cell_type": "code",
   "execution_count": 41,
   "metadata": {},
   "outputs": [
    {
     "data": {
      "text/plain": [
       "{'solver': 'liblinear', 'C': 0.23357214690901212}"
      ]
     },
     "execution_count": 41,
     "metadata": {},
     "output_type": "execute_result"
    }
   ],
   "source": [
    "rs_log_reg.best_params_"
   ]
  },
  {
   "cell_type": "code",
   "execution_count": 42,
   "metadata": {},
   "outputs": [
    {
     "name": "stdout",
     "output_type": "stream",
     "text": [
      "Randomized Search CV Logistic Regression\n",
      "Train Score :85.54%\n",
      "Test Score :88.52%\n"
     ]
    }
   ],
   "source": [
    "print('Randomized Search CV Logistic Regression')\n",
    "print(f'Train Score :{rs_log_reg.score(X_train,y_train)*100:.2f}%')\n",
    "print(f'Test Score :{rs_log_reg.score(X_test,y_test)*100:.2f}%')"
   ]
  },
  {
   "cell_type": "code",
   "execution_count": 43,
   "metadata": {},
   "outputs": [
    {
     "name": "stdout",
     "output_type": "stream",
     "text": [
      "Fitting 5 folds for each of 20 candidates, totalling 100 fits\n",
      "[CV] n_neighbors=1 ...................................................\n",
      "[CV] .................................... n_neighbors=1, total=   0.0s\n",
      "[CV] n_neighbors=1 ...................................................\n",
      "[CV] .................................... n_neighbors=1, total=   0.0s\n",
      "[CV] n_neighbors=1 ...................................................\n",
      "[CV] .................................... n_neighbors=1, total=   0.0s\n",
      "[CV] n_neighbors=1 ...................................................\n",
      "[CV] .................................... n_neighbors=1, total=   0.0s\n",
      "[CV] n_neighbors=1 ...................................................\n",
      "[CV] .................................... n_neighbors=1, total=   0.0s\n",
      "[CV] n_neighbors=2 ...................................................\n",
      "[CV] .................................... n_neighbors=2, total=   0.0s\n",
      "[CV] n_neighbors=2 ...................................................\n",
      "[CV] .................................... n_neighbors=2, total=   0.0s\n",
      "[CV] n_neighbors=2 ...................................................\n",
      "[CV] .................................... n_neighbors=2, total=   0.0s\n",
      "[CV] n_neighbors=2 ...................................................\n",
      "[CV] .................................... n_neighbors=2, total=   0.0s\n",
      "[CV] n_neighbors=2 ...................................................\n",
      "[CV] .................................... n_neighbors=2, total=   0.0s\n",
      "[CV] n_neighbors=3 ...................................................\n",
      "[CV] .................................... n_neighbors=3, total=   0.0s\n",
      "[CV] n_neighbors=3 ...................................................\n",
      "[CV] .................................... n_neighbors=3, total=   0.0s\n",
      "[CV] n_neighbors=3 ...................................................\n",
      "[CV] .................................... n_neighbors=3, total=   0.0s\n",
      "[CV] n_neighbors=3 ...................................................\n",
      "[CV] .................................... n_neighbors=3, total=   0.0s\n",
      "[CV] n_neighbors=3 ...................................................\n",
      "[CV] .................................... n_neighbors=3, total=   0.0s\n",
      "[CV] n_neighbors=4 ...................................................\n",
      "[CV] .................................... n_neighbors=4, total=   0.0s\n",
      "[CV] n_neighbors=4 ...................................................\n",
      "[CV] .................................... n_neighbors=4, total=   0.0s\n",
      "[CV] n_neighbors=4 ...................................................\n",
      "[CV] .................................... n_neighbors=4, total=   0.0s\n",
      "[CV] n_neighbors=4 ...................................................\n",
      "[CV] .................................... n_neighbors=4, total=   0.0s\n",
      "[CV] n_neighbors=4 ...................................................\n",
      "[CV] .................................... n_neighbors=4, total=   0.0s\n",
      "[CV] n_neighbors=5 ...................................................\n",
      "[CV] .................................... n_neighbors=5, total=   0.0s\n",
      "[CV] n_neighbors=5 ...................................................\n",
      "[CV] .................................... n_neighbors=5, total=   0.0s\n",
      "[CV] n_neighbors=5 ...................................................\n"
     ]
    },
    {
     "name": "stderr",
     "output_type": "stream",
     "text": [
      "[Parallel(n_jobs=1)]: Using backend SequentialBackend with 1 concurrent workers.\n",
      "[Parallel(n_jobs=1)]: Done   1 out of   1 | elapsed:    0.0s remaining:    0.0s\n"
     ]
    },
    {
     "name": "stdout",
     "output_type": "stream",
     "text": [
      "[CV] .................................... n_neighbors=5, total=   0.0s\n",
      "[CV] n_neighbors=5 ...................................................\n",
      "[CV] .................................... n_neighbors=5, total=   0.0s\n",
      "[CV] n_neighbors=5 ...................................................\n",
      "[CV] .................................... n_neighbors=5, total=   0.0s\n",
      "[CV] n_neighbors=6 ...................................................\n",
      "[CV] .................................... n_neighbors=6, total=   0.0s\n",
      "[CV] n_neighbors=6 ...................................................\n",
      "[CV] .................................... n_neighbors=6, total=   0.0s\n",
      "[CV] n_neighbors=6 ...................................................\n",
      "[CV] .................................... n_neighbors=6, total=   0.0s\n",
      "[CV] n_neighbors=6 ...................................................\n",
      "[CV] .................................... n_neighbors=6, total=   0.0s\n",
      "[CV] n_neighbors=6 ...................................................\n",
      "[CV] .................................... n_neighbors=6, total=   0.0s\n",
      "[CV] n_neighbors=7 ...................................................\n",
      "[CV] .................................... n_neighbors=7, total=   0.0s\n",
      "[CV] n_neighbors=7 ...................................................\n",
      "[CV] .................................... n_neighbors=7, total=   0.0s\n",
      "[CV] n_neighbors=7 ...................................................\n",
      "[CV] .................................... n_neighbors=7, total=   0.0s\n",
      "[CV] n_neighbors=7 ...................................................\n",
      "[CV] .................................... n_neighbors=7, total=   0.0s\n",
      "[CV] n_neighbors=7 ...................................................\n",
      "[CV] .................................... n_neighbors=7, total=   0.0s\n",
      "[CV] n_neighbors=8 ...................................................\n",
      "[CV] .................................... n_neighbors=8, total=   0.0s\n",
      "[CV] n_neighbors=8 ...................................................\n",
      "[CV] .................................... n_neighbors=8, total=   0.0s\n",
      "[CV] n_neighbors=8 ...................................................\n",
      "[CV] .................................... n_neighbors=8, total=   0.0s\n",
      "[CV] n_neighbors=8 ...................................................\n",
      "[CV] .................................... n_neighbors=8, total=   0.0s\n",
      "[CV] n_neighbors=8 ...................................................\n",
      "[CV] .................................... n_neighbors=8, total=   0.0s\n",
      "[CV] n_neighbors=9 ...................................................\n",
      "[CV] .................................... n_neighbors=9, total=   0.0s\n",
      "[CV] n_neighbors=9 ...................................................\n",
      "[CV] .................................... n_neighbors=9, total=   0.0s\n",
      "[CV] n_neighbors=9 ...................................................\n",
      "[CV] .................................... n_neighbors=9, total=   0.0s\n",
      "[CV] n_neighbors=9 ...................................................\n",
      "[CV] .................................... n_neighbors=9, total=   0.0s\n",
      "[CV] n_neighbors=9 ...................................................\n",
      "[CV] .................................... n_neighbors=9, total=   0.0s\n",
      "[CV] n_neighbors=10 ..................................................\n",
      "[CV] ................................... n_neighbors=10, total=   0.0s\n",
      "[CV] n_neighbors=10 ..................................................\n",
      "[CV] ................................... n_neighbors=10, total=   0.0s\n",
      "[CV] n_neighbors=10 ..................................................\n",
      "[CV] ................................... n_neighbors=10, total=   0.0s\n",
      "[CV] n_neighbors=10 ..................................................\n",
      "[CV] ................................... n_neighbors=10, total=   0.0s\n",
      "[CV] n_neighbors=10 ..................................................\n",
      "[CV] ................................... n_neighbors=10, total=   0.0s\n",
      "[CV] n_neighbors=11 ..................................................\n",
      "[CV] ................................... n_neighbors=11, total=   0.0s\n",
      "[CV] n_neighbors=11 ..................................................\n",
      "[CV] ................................... n_neighbors=11, total=   0.0s\n",
      "[CV] n_neighbors=11 ..................................................\n",
      "[CV] ................................... n_neighbors=11, total=   0.0s\n",
      "[CV] n_neighbors=11 ..................................................\n",
      "[CV] ................................... n_neighbors=11, total=   0.0s\n",
      "[CV] n_neighbors=11 ..................................................\n",
      "[CV] ................................... n_neighbors=11, total=   0.0s\n",
      "[CV] n_neighbors=12 ..................................................\n",
      "[CV] ................................... n_neighbors=12, total=   0.0s\n",
      "[CV] n_neighbors=12 ..................................................\n",
      "[CV] ................................... n_neighbors=12, total=   0.0s\n",
      "[CV] n_neighbors=12 ..................................................\n",
      "[CV] ................................... n_neighbors=12, total=   0.0s\n",
      "[CV] n_neighbors=12 ..................................................\n",
      "[CV] ................................... n_neighbors=12, total=   0.0s\n",
      "[CV] n_neighbors=12 ..................................................\n",
      "[CV] ................................... n_neighbors=12, total=   0.0s\n",
      "[CV] n_neighbors=13 ..................................................\n",
      "[CV] ................................... n_neighbors=13, total=   0.0s\n",
      "[CV] n_neighbors=13 ..................................................\n",
      "[CV] ................................... n_neighbors=13, total=   0.0s\n",
      "[CV] n_neighbors=13 ..................................................\n",
      "[CV] ................................... n_neighbors=13, total=   0.0s\n",
      "[CV] n_neighbors=13 ..................................................\n",
      "[CV] ................................... n_neighbors=13, total=   0.0s\n",
      "[CV] n_neighbors=13 ..................................................\n",
      "[CV] ................................... n_neighbors=13, total=   0.0s\n",
      "[CV] n_neighbors=14 ..................................................\n",
      "[CV] ................................... n_neighbors=14, total=   0.0s\n",
      "[CV] n_neighbors=14 ..................................................\n",
      "[CV] ................................... n_neighbors=14, total=   0.0s\n",
      "[CV] n_neighbors=14 ..................................................\n",
      "[CV] ................................... n_neighbors=14, total=   0.0s\n",
      "[CV] n_neighbors=14 ..................................................\n",
      "[CV] ................................... n_neighbors=14, total=   0.0s\n",
      "[CV] n_neighbors=14 ..................................................\n",
      "[CV] ................................... n_neighbors=14, total=   0.0s\n",
      "[CV] n_neighbors=15 ..................................................\n",
      "[CV] ................................... n_neighbors=15, total=   0.0s\n",
      "[CV] n_neighbors=15 ..................................................\n",
      "[CV] ................................... n_neighbors=15, total=   0.0s\n",
      "[CV] n_neighbors=15 ..................................................\n",
      "[CV] ................................... n_neighbors=15, total=   0.0s\n",
      "[CV] n_neighbors=15 ..................................................\n",
      "[CV] ................................... n_neighbors=15, total=   0.0s\n",
      "[CV] n_neighbors=15 ..................................................\n",
      "[CV] ................................... n_neighbors=15, total=   0.0s\n",
      "[CV] n_neighbors=16 ..................................................\n",
      "[CV] ................................... n_neighbors=16, total=   0.0s\n",
      "[CV] n_neighbors=16 ..................................................\n",
      "[CV] ................................... n_neighbors=16, total=   0.0s\n",
      "[CV] n_neighbors=16 ..................................................\n",
      "[CV] ................................... n_neighbors=16, total=   0.0s\n",
      "[CV] n_neighbors=16 ..................................................\n",
      "[CV] ................................... n_neighbors=16, total=   0.0s\n",
      "[CV] n_neighbors=16 ..................................................\n",
      "[CV] ................................... n_neighbors=16, total=   0.0s\n",
      "[CV] n_neighbors=17 ..................................................\n",
      "[CV] ................................... n_neighbors=17, total=   0.0s\n",
      "[CV] n_neighbors=17 ..................................................\n",
      "[CV] ................................... n_neighbors=17, total=   0.0s\n",
      "[CV] n_neighbors=17 ..................................................\n",
      "[CV] ................................... n_neighbors=17, total=   0.0s\n",
      "[CV] n_neighbors=17 ..................................................\n",
      "[CV] ................................... n_neighbors=17, total=   0.0s\n",
      "[CV] n_neighbors=17 ..................................................\n",
      "[CV] ................................... n_neighbors=17, total=   0.0s\n",
      "[CV] n_neighbors=18 ..................................................\n",
      "[CV] ................................... n_neighbors=18, total=   0.0s\n",
      "[CV] n_neighbors=18 ..................................................\n",
      "[CV] ................................... n_neighbors=18, total=   0.0s\n",
      "[CV] n_neighbors=18 ..................................................\n",
      "[CV] ................................... n_neighbors=18, total=   0.0s\n",
      "[CV] n_neighbors=18 ..................................................\n",
      "[CV] ................................... n_neighbors=18, total=   0.0s\n",
      "[CV] n_neighbors=18 ..................................................\n",
      "[CV] ................................... n_neighbors=18, total=   0.0s\n",
      "[CV] n_neighbors=19 ..................................................\n"
     ]
    },
    {
     "name": "stdout",
     "output_type": "stream",
     "text": [
      "[CV] ................................... n_neighbors=19, total=   0.0s\n",
      "[CV] n_neighbors=19 ..................................................\n",
      "[CV] ................................... n_neighbors=19, total=   0.0s\n",
      "[CV] n_neighbors=19 ..................................................\n",
      "[CV] ................................... n_neighbors=19, total=   0.0s\n",
      "[CV] n_neighbors=19 ..................................................\n",
      "[CV] ................................... n_neighbors=19, total=   0.0s\n",
      "[CV] n_neighbors=19 ..................................................\n",
      "[CV] ................................... n_neighbors=19, total=   0.0s\n",
      "[CV] n_neighbors=20 ..................................................\n",
      "[CV] ................................... n_neighbors=20, total=   0.0s\n",
      "[CV] n_neighbors=20 ..................................................\n",
      "[CV] ................................... n_neighbors=20, total=   0.0s\n",
      "[CV] n_neighbors=20 ..................................................\n",
      "[CV] ................................... n_neighbors=20, total=   0.0s\n",
      "[CV] n_neighbors=20 ..................................................\n",
      "[CV] ................................... n_neighbors=20, total=   0.0s\n",
      "[CV] n_neighbors=20 ..................................................\n",
      "[CV] ................................... n_neighbors=20, total=   0.0s\n"
     ]
    },
    {
     "name": "stderr",
     "output_type": "stream",
     "text": [
      "[Parallel(n_jobs=1)]: Done 100 out of 100 | elapsed:    0.7s finished\n"
     ]
    }
   ],
   "source": [
    "# Tuning KNN\n",
    "np.random.seed(42)\n",
    "\n",
    "# Randomized Search CV\n",
    "rs_knn = RandomizedSearchCV(KNeighborsClassifier(),\n",
    "                   param_distributions=knn_grid,\n",
    "                   cv=5,\n",
    "                   n_iter=20,\n",
    "                   verbose=2)\n",
    "\n",
    "# Fitting model\n",
    "rs_knn.fit(X_train,y_train);"
   ]
  },
  {
   "cell_type": "code",
   "execution_count": 44,
   "metadata": {},
   "outputs": [
    {
     "data": {
      "text/plain": [
       "{'n_neighbors': 16}"
      ]
     },
     "execution_count": 44,
     "metadata": {},
     "output_type": "execute_result"
    }
   ],
   "source": [
    "rs_knn.best_params_"
   ]
  },
  {
   "cell_type": "code",
   "execution_count": 45,
   "metadata": {},
   "outputs": [
    {
     "name": "stdout",
     "output_type": "stream",
     "text": [
      "Randomized Search CV K Nearest Neighbors\n",
      "Train Score :71.49%\n",
      "Test Score :75.41%\n"
     ]
    }
   ],
   "source": [
    "print('Randomized Search CV K Nearest Neighbors')\n",
    "print(f'Train Score :{rs_knn.score(X_train,y_train)*100:.2f}%')\n",
    "print(f'Test Score :{rs_knn.score(X_test,y_test)*100:.2f}%')"
   ]
  },
  {
   "cell_type": "code",
   "execution_count": 46,
   "metadata": {},
   "outputs": [
    {
     "name": "stdout",
     "output_type": "stream",
     "text": [
      "Fitting 5 folds for each of 2 candidates, totalling 10 fits\n",
      "[CV] criterion=gini ..................................................\n",
      "[CV] ................................... criterion=gini, total=   0.0s\n",
      "[CV] criterion=gini ..................................................\n",
      "[CV] ................................... criterion=gini, total=   0.0s\n",
      "[CV] criterion=gini ..................................................\n",
      "[CV] ................................... criterion=gini, total=   0.0s\n",
      "[CV] criterion=gini ..................................................\n",
      "[CV] ................................... criterion=gini, total=   0.0s\n",
      "[CV] criterion=gini ..................................................\n",
      "[CV] ................................... criterion=gini, total=   0.0s\n",
      "[CV] criterion=entropy ...............................................\n",
      "[CV] ................................ criterion=entropy, total=   0.0s\n",
      "[CV] criterion=entropy ...............................................\n",
      "[CV] ................................ criterion=entropy, total=   0.0s\n",
      "[CV] criterion=entropy ...............................................\n",
      "[CV] ................................ criterion=entropy, total=   0.0s\n",
      "[CV] criterion=entropy ...............................................\n",
      "[CV] ................................ criterion=entropy, total=   0.0s\n",
      "[CV] criterion=entropy ...............................................\n",
      "[CV] ................................ criterion=entropy, total=   0.0s\n"
     ]
    },
    {
     "name": "stderr",
     "output_type": "stream",
     "text": [
      "C:\\Users\\pravi\\Anaconda3\\lib\\site-packages\\sklearn\\model_selection\\_search.py:282: UserWarning: The total space of parameters 2 is smaller than n_iter=20. Running 2 iterations. For exhaustive searches, use GridSearchCV.\n",
      "  % (grid_size, self.n_iter, grid_size), UserWarning)\n",
      "[Parallel(n_jobs=1)]: Using backend SequentialBackend with 1 concurrent workers.\n",
      "[Parallel(n_jobs=1)]: Done   1 out of   1 | elapsed:    0.0s remaining:    0.0s\n",
      "[Parallel(n_jobs=1)]: Done  10 out of  10 | elapsed:    0.0s finished\n"
     ]
    }
   ],
   "source": [
    "# Tuning Decision Tree\n",
    "np.random.seed(42)\n",
    "\n",
    "# Randomized Search CV\n",
    "rs_dt = RandomizedSearchCV(DecisionTreeClassifier(),\n",
    "                   param_distributions=dt_grid,\n",
    "                   cv=5,\n",
    "                   n_iter=20,\n",
    "                   verbose=2)\n",
    "\n",
    "# Fitting model\n",
    "rs_dt.fit(X_train,y_train);"
   ]
  },
  {
   "cell_type": "code",
   "execution_count": 47,
   "metadata": {},
   "outputs": [
    {
     "data": {
      "text/plain": [
       "{'criterion': 'gini'}"
      ]
     },
     "execution_count": 47,
     "metadata": {},
     "output_type": "execute_result"
    }
   ],
   "source": [
    "rs_dt.best_params_"
   ]
  },
  {
   "cell_type": "code",
   "execution_count": 48,
   "metadata": {},
   "outputs": [
    {
     "name": "stdout",
     "output_type": "stream",
     "text": [
      "Randomized Search CV Decision Tree\n",
      "Train Score :100.00%\n",
      "Test Score :83.61%\n"
     ]
    }
   ],
   "source": [
    "print('Randomized Search CV Decision Tree')\n",
    "print(f'Train Score :{rs_dt.score(X_train,y_train)*100:.2f}%')\n",
    "print(f'Test Score :{rs_dt.score(X_test,y_test)*100:.2f}%')"
   ]
  },
  {
   "cell_type": "code",
   "execution_count": 49,
   "metadata": {},
   "outputs": [
    {
     "name": "stdout",
     "output_type": "stream",
     "text": [
      "Fitting 5 folds for each of 20 candidates, totalling 100 fits\n",
      "[CV] n_estimators=10, min_samples_split=16, min_samples_leaf=9, max_depth=None \n",
      "[CV]  n_estimators=10, min_samples_split=16, min_samples_leaf=9, max_depth=None, total=   0.1s\n",
      "[CV] n_estimators=10, min_samples_split=16, min_samples_leaf=9, max_depth=None \n",
      "[CV]  n_estimators=10, min_samples_split=16, min_samples_leaf=9, max_depth=None, total=   0.0s\n",
      "[CV] n_estimators=10, min_samples_split=16, min_samples_leaf=9, max_depth=None \n",
      "[CV]  n_estimators=10, min_samples_split=16, min_samples_leaf=9, max_depth=None, total=   0.0s\n",
      "[CV] n_estimators=10, min_samples_split=16, min_samples_leaf=9, max_depth=None \n",
      "[CV]  n_estimators=10, min_samples_split=16, min_samples_leaf=9, max_depth=None, total=   0.0s\n",
      "[CV] n_estimators=10, min_samples_split=16, min_samples_leaf=9, max_depth=None \n",
      "[CV]  n_estimators=10, min_samples_split=16, min_samples_leaf=9, max_depth=None, total=   0.0s\n",
      "[CV] n_estimators=510, min_samples_split=18, min_samples_leaf=19, max_depth=5 \n"
     ]
    },
    {
     "name": "stderr",
     "output_type": "stream",
     "text": [
      "[Parallel(n_jobs=1)]: Using backend SequentialBackend with 1 concurrent workers.\n",
      "[Parallel(n_jobs=1)]: Done   1 out of   1 | elapsed:    0.0s remaining:    0.0s\n"
     ]
    },
    {
     "name": "stdout",
     "output_type": "stream",
     "text": [
      "[CV]  n_estimators=510, min_samples_split=18, min_samples_leaf=19, max_depth=5, total=   0.8s\n",
      "[CV] n_estimators=510, min_samples_split=18, min_samples_leaf=19, max_depth=5 \n",
      "[CV]  n_estimators=510, min_samples_split=18, min_samples_leaf=19, max_depth=5, total=   0.8s\n",
      "[CV] n_estimators=510, min_samples_split=18, min_samples_leaf=19, max_depth=5 \n",
      "[CV]  n_estimators=510, min_samples_split=18, min_samples_leaf=19, max_depth=5, total=   0.7s\n",
      "[CV] n_estimators=510, min_samples_split=18, min_samples_leaf=19, max_depth=5 \n",
      "[CV]  n_estimators=510, min_samples_split=18, min_samples_leaf=19, max_depth=5, total=   0.7s\n",
      "[CV] n_estimators=510, min_samples_split=18, min_samples_leaf=19, max_depth=5 \n",
      "[CV]  n_estimators=510, min_samples_split=18, min_samples_leaf=19, max_depth=5, total=   0.8s\n",
      "[CV] n_estimators=310, min_samples_split=2, min_samples_leaf=19, max_depth=5 \n",
      "[CV]  n_estimators=310, min_samples_split=2, min_samples_leaf=19, max_depth=5, total=   0.4s\n",
      "[CV] n_estimators=310, min_samples_split=2, min_samples_leaf=19, max_depth=5 \n",
      "[CV]  n_estimators=310, min_samples_split=2, min_samples_leaf=19, max_depth=5, total=   0.4s\n",
      "[CV] n_estimators=310, min_samples_split=2, min_samples_leaf=19, max_depth=5 \n",
      "[CV]  n_estimators=310, min_samples_split=2, min_samples_leaf=19, max_depth=5, total=   0.4s\n",
      "[CV] n_estimators=310, min_samples_split=2, min_samples_leaf=19, max_depth=5 \n",
      "[CV]  n_estimators=310, min_samples_split=2, min_samples_leaf=19, max_depth=5, total=   0.5s\n",
      "[CV] n_estimators=310, min_samples_split=2, min_samples_leaf=19, max_depth=5 \n",
      "[CV]  n_estimators=310, min_samples_split=2, min_samples_leaf=19, max_depth=5, total=   0.5s\n",
      "[CV] n_estimators=560, min_samples_split=16, min_samples_leaf=17, max_depth=5 \n",
      "[CV]  n_estimators=560, min_samples_split=16, min_samples_leaf=17, max_depth=5, total=   0.8s\n",
      "[CV] n_estimators=560, min_samples_split=16, min_samples_leaf=17, max_depth=5 \n",
      "[CV]  n_estimators=560, min_samples_split=16, min_samples_leaf=17, max_depth=5, total=   0.8s\n",
      "[CV] n_estimators=560, min_samples_split=16, min_samples_leaf=17, max_depth=5 \n",
      "[CV]  n_estimators=560, min_samples_split=16, min_samples_leaf=17, max_depth=5, total=   0.8s\n",
      "[CV] n_estimators=560, min_samples_split=16, min_samples_leaf=17, max_depth=5 \n",
      "[CV]  n_estimators=560, min_samples_split=16, min_samples_leaf=17, max_depth=5, total=   0.8s\n",
      "[CV] n_estimators=560, min_samples_split=16, min_samples_leaf=17, max_depth=5 \n",
      "[CV]  n_estimators=560, min_samples_split=16, min_samples_leaf=17, max_depth=5, total=   0.8s\n",
      "[CV] n_estimators=610, min_samples_split=18, min_samples_leaf=1, max_depth=5 \n",
      "[CV]  n_estimators=610, min_samples_split=18, min_samples_leaf=1, max_depth=5, total=   0.8s\n",
      "[CV] n_estimators=610, min_samples_split=18, min_samples_leaf=1, max_depth=5 \n",
      "[CV]  n_estimators=610, min_samples_split=18, min_samples_leaf=1, max_depth=5, total=   0.9s\n",
      "[CV] n_estimators=610, min_samples_split=18, min_samples_leaf=1, max_depth=5 \n",
      "[CV]  n_estimators=610, min_samples_split=18, min_samples_leaf=1, max_depth=5, total=   0.9s\n",
      "[CV] n_estimators=610, min_samples_split=18, min_samples_leaf=1, max_depth=5 \n",
      "[CV]  n_estimators=610, min_samples_split=18, min_samples_leaf=1, max_depth=5, total=   0.8s\n",
      "[CV] n_estimators=610, min_samples_split=18, min_samples_leaf=1, max_depth=5 \n",
      "[CV]  n_estimators=610, min_samples_split=18, min_samples_leaf=1, max_depth=5, total=   0.9s\n",
      "[CV] n_estimators=610, min_samples_split=4, min_samples_leaf=15, max_depth=3 \n",
      "[CV]  n_estimators=610, min_samples_split=4, min_samples_leaf=15, max_depth=3, total=   1.0s\n",
      "[CV] n_estimators=610, min_samples_split=4, min_samples_leaf=15, max_depth=3 \n",
      "[CV]  n_estimators=610, min_samples_split=4, min_samples_leaf=15, max_depth=3, total=   0.9s\n",
      "[CV] n_estimators=610, min_samples_split=4, min_samples_leaf=15, max_depth=3 \n",
      "[CV]  n_estimators=610, min_samples_split=4, min_samples_leaf=15, max_depth=3, total=   0.9s\n",
      "[CV] n_estimators=610, min_samples_split=4, min_samples_leaf=15, max_depth=3 \n",
      "[CV]  n_estimators=610, min_samples_split=4, min_samples_leaf=15, max_depth=3, total=   0.9s\n",
      "[CV] n_estimators=610, min_samples_split=4, min_samples_leaf=15, max_depth=3 \n",
      "[CV]  n_estimators=610, min_samples_split=4, min_samples_leaf=15, max_depth=3, total=   0.9s\n",
      "[CV] n_estimators=710, min_samples_split=16, min_samples_leaf=3, max_depth=10 \n",
      "[CV]  n_estimators=710, min_samples_split=16, min_samples_leaf=3, max_depth=10, total=   1.0s\n",
      "[CV] n_estimators=710, min_samples_split=16, min_samples_leaf=3, max_depth=10 \n",
      "[CV]  n_estimators=710, min_samples_split=16, min_samples_leaf=3, max_depth=10, total=   1.1s\n",
      "[CV] n_estimators=710, min_samples_split=16, min_samples_leaf=3, max_depth=10 \n",
      "[CV]  n_estimators=710, min_samples_split=16, min_samples_leaf=3, max_depth=10, total=   1.1s\n",
      "[CV] n_estimators=710, min_samples_split=16, min_samples_leaf=3, max_depth=10 \n",
      "[CV]  n_estimators=710, min_samples_split=16, min_samples_leaf=3, max_depth=10, total=   1.1s\n",
      "[CV] n_estimators=710, min_samples_split=16, min_samples_leaf=3, max_depth=10 \n",
      "[CV]  n_estimators=710, min_samples_split=16, min_samples_leaf=3, max_depth=10, total=   1.1s\n",
      "[CV] n_estimators=260, min_samples_split=16, min_samples_leaf=9, max_depth=10 \n",
      "[CV]  n_estimators=260, min_samples_split=16, min_samples_leaf=9, max_depth=10, total=   0.4s\n",
      "[CV] n_estimators=260, min_samples_split=16, min_samples_leaf=9, max_depth=10 \n",
      "[CV]  n_estimators=260, min_samples_split=16, min_samples_leaf=9, max_depth=10, total=   0.4s\n",
      "[CV] n_estimators=260, min_samples_split=16, min_samples_leaf=9, max_depth=10 \n",
      "[CV]  n_estimators=260, min_samples_split=16, min_samples_leaf=9, max_depth=10, total=   0.4s\n",
      "[CV] n_estimators=260, min_samples_split=16, min_samples_leaf=9, max_depth=10 \n",
      "[CV]  n_estimators=260, min_samples_split=16, min_samples_leaf=9, max_depth=10, total=   0.4s\n",
      "[CV] n_estimators=260, min_samples_split=16, min_samples_leaf=9, max_depth=10 \n",
      "[CV]  n_estimators=260, min_samples_split=16, min_samples_leaf=9, max_depth=10, total=   0.4s\n",
      "[CV] n_estimators=310, min_samples_split=12, min_samples_leaf=5, max_depth=None \n",
      "[CV]  n_estimators=310, min_samples_split=12, min_samples_leaf=5, max_depth=None, total=   0.6s\n",
      "[CV] n_estimators=310, min_samples_split=12, min_samples_leaf=5, max_depth=None \n",
      "[CV]  n_estimators=310, min_samples_split=12, min_samples_leaf=5, max_depth=None, total=   0.5s\n",
      "[CV] n_estimators=310, min_samples_split=12, min_samples_leaf=5, max_depth=None \n",
      "[CV]  n_estimators=310, min_samples_split=12, min_samples_leaf=5, max_depth=None, total=   0.5s\n",
      "[CV] n_estimators=310, min_samples_split=12, min_samples_leaf=5, max_depth=None \n",
      "[CV]  n_estimators=310, min_samples_split=12, min_samples_leaf=5, max_depth=None, total=   0.5s\n",
      "[CV] n_estimators=310, min_samples_split=12, min_samples_leaf=5, max_depth=None \n",
      "[CV]  n_estimators=310, min_samples_split=12, min_samples_leaf=5, max_depth=None, total=   0.5s\n",
      "[CV] n_estimators=710, min_samples_split=12, min_samples_leaf=19, max_depth=5 \n",
      "[CV]  n_estimators=710, min_samples_split=12, min_samples_leaf=19, max_depth=5, total=   1.2s\n",
      "[CV] n_estimators=710, min_samples_split=12, min_samples_leaf=19, max_depth=5 \n",
      "[CV]  n_estimators=710, min_samples_split=12, min_samples_leaf=19, max_depth=5, total=   1.3s\n",
      "[CV] n_estimators=710, min_samples_split=12, min_samples_leaf=19, max_depth=5 \n",
      "[CV]  n_estimators=710, min_samples_split=12, min_samples_leaf=19, max_depth=5, total=   1.1s\n",
      "[CV] n_estimators=710, min_samples_split=12, min_samples_leaf=19, max_depth=5 \n",
      "[CV]  n_estimators=710, min_samples_split=12, min_samples_leaf=19, max_depth=5, total=   1.0s\n",
      "[CV] n_estimators=710, min_samples_split=12, min_samples_leaf=19, max_depth=5 \n",
      "[CV]  n_estimators=710, min_samples_split=12, min_samples_leaf=19, max_depth=5, total=   1.0s\n",
      "[CV] n_estimators=310, min_samples_split=12, min_samples_leaf=9, max_depth=5 \n",
      "[CV]  n_estimators=310, min_samples_split=12, min_samples_leaf=9, max_depth=5, total=   0.4s\n",
      "[CV] n_estimators=310, min_samples_split=12, min_samples_leaf=9, max_depth=5 \n",
      "[CV]  n_estimators=310, min_samples_split=12, min_samples_leaf=9, max_depth=5, total=   0.4s\n",
      "[CV] n_estimators=310, min_samples_split=12, min_samples_leaf=9, max_depth=5 \n",
      "[CV]  n_estimators=310, min_samples_split=12, min_samples_leaf=9, max_depth=5, total=   0.4s\n",
      "[CV] n_estimators=310, min_samples_split=12, min_samples_leaf=9, max_depth=5 \n"
     ]
    },
    {
     "name": "stdout",
     "output_type": "stream",
     "text": [
      "[CV]  n_estimators=310, min_samples_split=12, min_samples_leaf=9, max_depth=5, total=   0.5s\n",
      "[CV] n_estimators=310, min_samples_split=12, min_samples_leaf=9, max_depth=5 \n",
      "[CV]  n_estimators=310, min_samples_split=12, min_samples_leaf=9, max_depth=5, total=   0.5s\n",
      "[CV] n_estimators=910, min_samples_split=18, min_samples_leaf=1, max_depth=10 \n",
      "[CV]  n_estimators=910, min_samples_split=18, min_samples_leaf=1, max_depth=10, total=   1.5s\n",
      "[CV] n_estimators=910, min_samples_split=18, min_samples_leaf=1, max_depth=10 \n",
      "[CV]  n_estimators=910, min_samples_split=18, min_samples_leaf=1, max_depth=10, total=   1.4s\n",
      "[CV] n_estimators=910, min_samples_split=18, min_samples_leaf=1, max_depth=10 \n",
      "[CV]  n_estimators=910, min_samples_split=18, min_samples_leaf=1, max_depth=10, total=   1.4s\n",
      "[CV] n_estimators=910, min_samples_split=18, min_samples_leaf=1, max_depth=10 \n",
      "[CV]  n_estimators=910, min_samples_split=18, min_samples_leaf=1, max_depth=10, total=   1.4s\n",
      "[CV] n_estimators=910, min_samples_split=18, min_samples_leaf=1, max_depth=10 \n",
      "[CV]  n_estimators=910, min_samples_split=18, min_samples_leaf=1, max_depth=10, total=   1.5s\n",
      "[CV] n_estimators=560, min_samples_split=12, min_samples_leaf=9, max_depth=10 \n",
      "[CV]  n_estimators=560, min_samples_split=12, min_samples_leaf=9, max_depth=10, total=   0.9s\n",
      "[CV] n_estimators=560, min_samples_split=12, min_samples_leaf=9, max_depth=10 \n",
      "[CV]  n_estimators=560, min_samples_split=12, min_samples_leaf=9, max_depth=10, total=   1.0s\n",
      "[CV] n_estimators=560, min_samples_split=12, min_samples_leaf=9, max_depth=10 \n",
      "[CV]  n_estimators=560, min_samples_split=12, min_samples_leaf=9, max_depth=10, total=   1.0s\n",
      "[CV] n_estimators=560, min_samples_split=12, min_samples_leaf=9, max_depth=10 \n",
      "[CV]  n_estimators=560, min_samples_split=12, min_samples_leaf=9, max_depth=10, total=   1.0s\n",
      "[CV] n_estimators=560, min_samples_split=12, min_samples_leaf=9, max_depth=10 \n",
      "[CV]  n_estimators=560, min_samples_split=12, min_samples_leaf=9, max_depth=10, total=   0.9s\n",
      "[CV] n_estimators=210, min_samples_split=4, min_samples_leaf=19, max_depth=3 \n",
      "[CV]  n_estimators=210, min_samples_split=4, min_samples_leaf=19, max_depth=3, total=   0.3s\n",
      "[CV] n_estimators=210, min_samples_split=4, min_samples_leaf=19, max_depth=3 \n",
      "[CV]  n_estimators=210, min_samples_split=4, min_samples_leaf=19, max_depth=3, total=   0.3s\n",
      "[CV] n_estimators=210, min_samples_split=4, min_samples_leaf=19, max_depth=3 \n",
      "[CV]  n_estimators=210, min_samples_split=4, min_samples_leaf=19, max_depth=3, total=   0.3s\n",
      "[CV] n_estimators=210, min_samples_split=4, min_samples_leaf=19, max_depth=3 \n",
      "[CV]  n_estimators=210, min_samples_split=4, min_samples_leaf=19, max_depth=3, total=   0.3s\n",
      "[CV] n_estimators=210, min_samples_split=4, min_samples_leaf=19, max_depth=3 \n",
      "[CV]  n_estimators=210, min_samples_split=4, min_samples_leaf=19, max_depth=3, total=   0.3s\n",
      "[CV] n_estimators=560, min_samples_split=12, min_samples_leaf=15, max_depth=3 \n",
      "[CV]  n_estimators=560, min_samples_split=12, min_samples_leaf=15, max_depth=3, total=   0.8s\n",
      "[CV] n_estimators=560, min_samples_split=12, min_samples_leaf=15, max_depth=3 \n",
      "[CV]  n_estimators=560, min_samples_split=12, min_samples_leaf=15, max_depth=3, total=   0.8s\n",
      "[CV] n_estimators=560, min_samples_split=12, min_samples_leaf=15, max_depth=3 \n",
      "[CV]  n_estimators=560, min_samples_split=12, min_samples_leaf=15, max_depth=3, total=   0.9s\n",
      "[CV] n_estimators=560, min_samples_split=12, min_samples_leaf=15, max_depth=3 \n",
      "[CV]  n_estimators=560, min_samples_split=12, min_samples_leaf=15, max_depth=3, total=   1.0s\n",
      "[CV] n_estimators=560, min_samples_split=12, min_samples_leaf=15, max_depth=3 \n",
      "[CV]  n_estimators=560, min_samples_split=12, min_samples_leaf=15, max_depth=3, total=   1.0s\n",
      "[CV] n_estimators=960, min_samples_split=4, min_samples_leaf=13, max_depth=3 \n",
      "[CV]  n_estimators=960, min_samples_split=4, min_samples_leaf=13, max_depth=3, total=   1.6s\n",
      "[CV] n_estimators=960, min_samples_split=4, min_samples_leaf=13, max_depth=3 \n",
      "[CV]  n_estimators=960, min_samples_split=4, min_samples_leaf=13, max_depth=3, total=   1.6s\n",
      "[CV] n_estimators=960, min_samples_split=4, min_samples_leaf=13, max_depth=3 \n",
      "[CV]  n_estimators=960, min_samples_split=4, min_samples_leaf=13, max_depth=3, total=   1.6s\n",
      "[CV] n_estimators=960, min_samples_split=4, min_samples_leaf=13, max_depth=3 \n",
      "[CV]  n_estimators=960, min_samples_split=4, min_samples_leaf=13, max_depth=3, total=   1.5s\n",
      "[CV] n_estimators=960, min_samples_split=4, min_samples_leaf=13, max_depth=3 \n",
      "[CV]  n_estimators=960, min_samples_split=4, min_samples_leaf=13, max_depth=3, total=   1.5s\n",
      "[CV] n_estimators=510, min_samples_split=14, min_samples_leaf=1, max_depth=None \n",
      "[CV]  n_estimators=510, min_samples_split=14, min_samples_leaf=1, max_depth=None, total=   0.9s\n",
      "[CV] n_estimators=510, min_samples_split=14, min_samples_leaf=1, max_depth=None \n",
      "[CV]  n_estimators=510, min_samples_split=14, min_samples_leaf=1, max_depth=None, total=   1.0s\n",
      "[CV] n_estimators=510, min_samples_split=14, min_samples_leaf=1, max_depth=None \n",
      "[CV]  n_estimators=510, min_samples_split=14, min_samples_leaf=1, max_depth=None, total=   0.9s\n",
      "[CV] n_estimators=510, min_samples_split=14, min_samples_leaf=1, max_depth=None \n",
      "[CV]  n_estimators=510, min_samples_split=14, min_samples_leaf=1, max_depth=None, total=   0.7s\n",
      "[CV] n_estimators=510, min_samples_split=14, min_samples_leaf=1, max_depth=None \n",
      "[CV]  n_estimators=510, min_samples_split=14, min_samples_leaf=1, max_depth=None, total=   0.8s\n",
      "[CV] n_estimators=260, min_samples_split=8, min_samples_leaf=19, max_depth=None \n",
      "[CV]  n_estimators=260, min_samples_split=8, min_samples_leaf=19, max_depth=None, total=   0.4s\n",
      "[CV] n_estimators=260, min_samples_split=8, min_samples_leaf=19, max_depth=None \n",
      "[CV]  n_estimators=260, min_samples_split=8, min_samples_leaf=19, max_depth=None, total=   0.4s\n",
      "[CV] n_estimators=260, min_samples_split=8, min_samples_leaf=19, max_depth=None \n",
      "[CV]  n_estimators=260, min_samples_split=8, min_samples_leaf=19, max_depth=None, total=   0.5s\n",
      "[CV] n_estimators=260, min_samples_split=8, min_samples_leaf=19, max_depth=None \n",
      "[CV]  n_estimators=260, min_samples_split=8, min_samples_leaf=19, max_depth=None, total=   0.4s\n",
      "[CV] n_estimators=260, min_samples_split=8, min_samples_leaf=19, max_depth=None \n",
      "[CV]  n_estimators=260, min_samples_split=8, min_samples_leaf=19, max_depth=None, total=   0.4s\n",
      "[CV] n_estimators=460, min_samples_split=6, min_samples_leaf=9, max_depth=None \n",
      "[CV]  n_estimators=460, min_samples_split=6, min_samples_leaf=9, max_depth=None, total=   0.8s\n",
      "[CV] n_estimators=460, min_samples_split=6, min_samples_leaf=9, max_depth=None \n",
      "[CV]  n_estimators=460, min_samples_split=6, min_samples_leaf=9, max_depth=None, total=   0.7s\n",
      "[CV] n_estimators=460, min_samples_split=6, min_samples_leaf=9, max_depth=None \n",
      "[CV]  n_estimators=460, min_samples_split=6, min_samples_leaf=9, max_depth=None, total=   0.7s\n",
      "[CV] n_estimators=460, min_samples_split=6, min_samples_leaf=9, max_depth=None \n",
      "[CV]  n_estimators=460, min_samples_split=6, min_samples_leaf=9, max_depth=None, total=   0.7s\n",
      "[CV] n_estimators=460, min_samples_split=6, min_samples_leaf=9, max_depth=None \n",
      "[CV]  n_estimators=460, min_samples_split=6, min_samples_leaf=9, max_depth=None, total=   0.7s\n",
      "[CV] n_estimators=560, min_samples_split=6, min_samples_leaf=7, max_depth=3 \n",
      "[CV]  n_estimators=560, min_samples_split=6, min_samples_leaf=7, max_depth=3, total=   0.8s\n",
      "[CV] n_estimators=560, min_samples_split=6, min_samples_leaf=7, max_depth=3 \n",
      "[CV]  n_estimators=560, min_samples_split=6, min_samples_leaf=7, max_depth=3, total=   0.8s\n",
      "[CV] n_estimators=560, min_samples_split=6, min_samples_leaf=7, max_depth=3 \n",
      "[CV]  n_estimators=560, min_samples_split=6, min_samples_leaf=7, max_depth=3, total=   0.9s\n",
      "[CV] n_estimators=560, min_samples_split=6, min_samples_leaf=7, max_depth=3 \n",
      "[CV]  n_estimators=560, min_samples_split=6, min_samples_leaf=7, max_depth=3, total=   0.8s\n",
      "[CV] n_estimators=560, min_samples_split=6, min_samples_leaf=7, max_depth=3 \n",
      "[CV]  n_estimators=560, min_samples_split=6, min_samples_leaf=7, max_depth=3, total=   0.8s\n"
     ]
    },
    {
     "name": "stderr",
     "output_type": "stream",
     "text": [
      "[Parallel(n_jobs=1)]: Done 100 out of 100 | elapsed:  1.3min finished\n"
     ]
    }
   ],
   "source": [
    "# Tuning Random Forest Classifier\n",
    "np.random.seed(42)\n",
    "\n",
    "# Randomized Search CV\n",
    "rs_rf = RandomizedSearchCV(RandomForestClassifier(),\n",
    "                   param_distributions=rf_grid,\n",
    "                   cv=5,\n",
    "                   n_iter=20,\n",
    "                   verbose=2)\n",
    "\n",
    "# Fitting model\n",
    "rs_rf.fit(X_train,y_train);"
   ]
  },
  {
   "cell_type": "code",
   "execution_count": 50,
   "metadata": {},
   "outputs": [
    {
     "data": {
      "text/plain": [
       "{'n_estimators': 510,\n",
       " 'min_samples_split': 18,\n",
       " 'min_samples_leaf': 19,\n",
       " 'max_depth': 5}"
      ]
     },
     "execution_count": 50,
     "metadata": {},
     "output_type": "execute_result"
    }
   ],
   "source": [
    "rs_rf.best_params_"
   ]
  },
  {
   "cell_type": "code",
   "execution_count": 51,
   "metadata": {},
   "outputs": [
    {
     "name": "stdout",
     "output_type": "stream",
     "text": [
      "Randomized Search CV Random Forest\n",
      "Train Score :85.12%\n",
      "Test Score :86.89%\n"
     ]
    }
   ],
   "source": [
    "print('Randomized Search CV Random Forest')\n",
    "print(f'Train Score :{rs_rf.score(X_train,y_train)*100:.2f}%')\n",
    "print(f'Test Score :{rs_rf.score(X_test,y_test)*100:.2f}%')"
   ]
  },
  {
   "cell_type": "markdown",
   "metadata": {},
   "source": [
    "Till now, the best model is Logistic Regression. So we will do Grid Search CV using Logistic Regression"
   ]
  },
  {
   "cell_type": "markdown",
   "metadata": {},
   "source": [
    "**Grid Search CV**"
   ]
  },
  {
   "cell_type": "code",
   "execution_count": 52,
   "metadata": {},
   "outputs": [
    {
     "name": "stdout",
     "output_type": "stream",
     "text": [
      "Fitting 5 folds for each of 20 candidates, totalling 100 fits\n"
     ]
    },
    {
     "name": "stderr",
     "output_type": "stream",
     "text": [
      "[Parallel(n_jobs=1)]: Using backend SequentialBackend with 1 concurrent workers.\n",
      "[Parallel(n_jobs=1)]: Done 100 out of 100 | elapsed:    0.5s finished\n"
     ]
    },
    {
     "data": {
      "text/plain": [
       "GridSearchCV(cv=5, estimator=LogisticRegression(),\n",
       "             param_grid={'C': array([1.00000000e-04, 2.63665090e-04, 6.95192796e-04, 1.83298071e-03,\n",
       "       4.83293024e-03, 1.27427499e-02, 3.35981829e-02, 8.85866790e-02,\n",
       "       2.33572147e-01, 6.15848211e-01, 1.62377674e+00, 4.28133240e+00,\n",
       "       1.12883789e+01, 2.97635144e+01, 7.84759970e+01, 2.06913808e+02,\n",
       "       5.45559478e+02, 1.43844989e+03, 3.79269019e+03, 1.00000000e+04]),\n",
       "                         'solver': ['liblinear']},\n",
       "             verbose=True)"
      ]
     },
     "execution_count": 52,
     "metadata": {},
     "output_type": "execute_result"
    }
   ],
   "source": [
    "# Grid Search CV\n",
    "gs_log_reg = GridSearchCV(LogisticRegression(),\n",
    "                         param_grid=log_reg_grid,\n",
    "                         cv=5,\n",
    "                         verbose=True)\n",
    "\n",
    "# Fitting model\n",
    "gs_log_reg.fit(X_train,y_train)"
   ]
  },
  {
   "cell_type": "code",
   "execution_count": 53,
   "metadata": {},
   "outputs": [
    {
     "data": {
      "text/plain": [
       "{'C': 0.23357214690901212, 'solver': 'liblinear'}"
      ]
     },
     "execution_count": 53,
     "metadata": {},
     "output_type": "execute_result"
    }
   ],
   "source": [
    "gs_log_reg.best_params_"
   ]
  },
  {
   "cell_type": "code",
   "execution_count": 54,
   "metadata": {},
   "outputs": [
    {
     "name": "stdout",
     "output_type": "stream",
     "text": [
      "Grid Search CV Logistic Regression\n",
      "Train Score :85.54%\n",
      "Test Score :88.52%\n"
     ]
    }
   ],
   "source": [
    "print('Grid Search CV Logistic Regression')\n",
    "print(f'Train Score :{gs_log_reg.score(X_train,y_train)*100:.2f}%')\n",
    "print(f'Test Score :{gs_log_reg.score(X_test,y_test)*100:.2f}%')"
   ]
  },
  {
   "cell_type": "markdown",
   "metadata": {},
   "source": [
    "Grid Search CV based logistic regression is choosen as best model"
   ]
  },
  {
   "cell_type": "markdown",
   "metadata": {},
   "source": [
    "**Evaluation**"
   ]
  },
  {
   "cell_type": "code",
   "execution_count": 55,
   "metadata": {},
   "outputs": [],
   "source": [
    "y_pred = gs_log_reg.predict(X_test)"
   ]
  },
  {
   "cell_type": "code",
   "execution_count": 56,
   "metadata": {},
   "outputs": [
    {
     "data": {
      "image/png": "[encoded data removed]",
      "text/plain": [
       "<Figure size 432x288 with 1 Axes>"
      ]
     },
     "metadata": {
      "needs_background": "light"
     },
     "output_type": "display_data"
    }
   ],
   "source": [
    "# ROC Curve\n",
    "plot_roc_curve(gs_log_reg,X_test,y_test);"
   ]
  },
  {
   "cell_type": "code",
   "execution_count": 57,
   "metadata": {},
   "outputs": [
    {
     "name": "stdout",
     "output_type": "stream",
     "text": [
      "              precision    recall  f1-score   support\n",
      "\n",
      "           0       0.89      0.86      0.88        29\n",
      "           1       0.88      0.91      0.89        32\n",
      "\n",
      "    accuracy                           0.89        61\n",
      "   macro avg       0.89      0.88      0.88        61\n",
      "weighted avg       0.89      0.89      0.89        61\n",
      "\n"
     ]
    }
   ],
   "source": [
    "# Classification Report\n",
    "print(classification_report(y_test,y_pred))"
   ]
  },
  {
   "cell_type": "code",
   "execution_count": 58,
   "metadata": {},
   "outputs": [
    {
     "data": {
      "image/png": "[encoded data removed]",
      "text/plain": [
       "<Figure size 432x288 with 2 Axes>"
      ]
     },
     "metadata": {
      "needs_background": "light"
     },
     "output_type": "display_data"
    }
   ],
   "source": [
    "# Confusion Matrix\n",
    "sns.heatmap(confusion_matrix(y_test,y_pred),\n",
    "            annot=True)\n",
    "plt.xlabel('Actual Values')\n",
    "plt.ylabel('Predicted Values');"
   ]
  },
  {
   "cell_type": "markdown",
   "metadata": {},
   "source": [
    "**Accuracy,Precision,Recall,F1 Score**"
   ]
  },
  {
   "cell_type": "code",
   "execution_count": 59,
   "metadata": {},
   "outputs": [
    {
     "data": {
      "text/plain": [
       "{'C': 0.23357214690901212, 'solver': 'liblinear'}"
      ]
     },
     "execution_count": 59,
     "metadata": {},
     "output_type": "execute_result"
    }
   ],
   "source": [
    "gs_log_reg.best_params_"
   ]
  },
  {
   "cell_type": "code",
   "execution_count": 60,
   "metadata": {},
   "outputs": [],
   "source": [
    "# New model with best params\n",
    "clf = LogisticRegression(C=0.23357214690901212,\n",
    "                      solver='liblinear')"
   ]
  },
  {
   "cell_type": "code",
   "execution_count": 61,
   "metadata": {},
   "outputs": [
    {
     "data": {
      "text/plain": [
       "array([0.81967213, 0.90163934, 0.86885246, 0.86666667, 0.75      ])"
      ]
     },
     "execution_count": 61,
     "metadata": {},
     "output_type": "execute_result"
    }
   ],
   "source": [
    "# Cross validated Accuracy\n",
    "cv_acc = cross_val_score(clf,\n",
    "                X,\n",
    "                y,\n",
    "                cv=5,\n",
    "                scoring='accuracy')\n",
    "cv_acc"
   ]
  },
  {
   "cell_type": "code",
   "execution_count": 62,
   "metadata": {},
   "outputs": [
    {
     "data": {
      "text/plain": [
       "array([0.775     , 0.88571429, 0.85714286, 0.85714286, 0.725     ])"
      ]
     },
     "execution_count": 62,
     "metadata": {},
     "output_type": "execute_result"
    }
   ],
   "source": [
    "# Cross Validated Precision\n",
    "cv_pre = cross_val_score(clf,\n",
    "                X,\n",
    "                y,\n",
    "                cv=5,\n",
    "                scoring='precision')\n",
    "cv_pre"
   ]
  },
  {
   "cell_type": "code",
   "execution_count": 63,
   "metadata": {},
   "outputs": [
    {
     "data": {
      "text/plain": [
       "array([0.93939394, 0.93939394, 0.90909091, 0.90909091, 0.87878788])"
      ]
     },
     "execution_count": 63,
     "metadata": {},
     "output_type": "execute_result"
    }
   ],
   "source": [
    "# Cross Validated Recall\n",
    "cv_rec = cross_val_score(clf,\n",
    "                X,\n",
    "                y,\n",
    "                cv=5,\n",
    "                scoring='recall')\n",
    "cv_rec"
   ]
  },
  {
   "cell_type": "code",
   "execution_count": 64,
   "metadata": {},
   "outputs": [
    {
     "data": {
      "text/plain": [
       "array([0.84931507, 0.91176471, 0.88235294, 0.88235294, 0.79452055])"
      ]
     },
     "execution_count": 64,
     "metadata": {},
     "output_type": "execute_result"
    }
   ],
   "source": [
    "# Cross Validated F1\n",
    "cv_f1 = cross_val_score(clf,\n",
    "                X,\n",
    "                y,\n",
    "                cv=5,\n",
    "                scoring='f1')\n",
    "cv_f1"
   ]
  },
  {
   "cell_type": "code",
   "execution_count": 65,
   "metadata": {},
   "outputs": [
    {
     "data": {
      "image/png": "[encoded data removed]",
      "text/plain": [
       "<Figure size 432x288 with 1 Axes>"
      ]
     },
     "metadata": {
      "needs_background": "light"
     },
     "output_type": "display_data"
    }
   ],
   "source": [
    "# Plotting Cross Validated Metrics\n",
    "metrics = pd.DataFrame({'Accuracy':np.mean(cv_acc),\n",
    "                        'Precision':np.mean(cv_pre),\n",
    "                        'Recall':np.mean(cv_rec),\n",
    "                        'F1 Score':np.mean(cv_f1)},\n",
    "                         index=[0])\n",
    "metrics.T.plot.bar(title='Cross Validated Metrics',\n",
    "                   grid='ON',\n",
    "                  legend=False);"
   ]
  },
  {
   "cell_type": "markdown",
   "metadata": {},
   "source": [
    "## Feature Importance"
   ]
  },
  {
   "cell_type": "code",
   "execution_count": 66,
   "metadata": {},
   "outputs": [
    {
     "data": {
      "text/plain": [
       "array([[ 0.00094648, -0.87496247,  0.68319287, -0.01187338,  0.34907436,\n",
       "         0.02340131, -0.63801972, -0.58869517,  0.45965643, -0.64142483,\n",
       "        -0.71286446]])"
      ]
     },
     "execution_count": 66,
     "metadata": {},
     "output_type": "execute_result"
    }
   ],
   "source": [
    "# Fitting the model and finding coefficients\n",
    "clf.fit(X_train,y_train)\n",
    "clf.coef_"
   ]
  },
  {
   "cell_type": "code",
   "execution_count": 67,
   "metadata": {},
   "outputs": [
    {
     "data": {
      "text/plain": [
       "Index(['age', 'sex', 'cp', 'trestbps', 'restecg', 'thalach', 'exang',\n",
       "       'oldpeak', 'slope', 'ca', 'thal', 'target'],\n",
       "      dtype='object')"
      ]
     },
     "execution_count": 67,
     "metadata": {},
     "output_type": "execute_result"
    }
   ],
   "source": [
    "df.columns"
   ]
  },
  {
   "cell_type": "code",
   "execution_count": 68,
   "metadata": {},
   "outputs": [
    {
     "data": {
      "text/plain": [
       "{'age': 0.0009464820065628376,\n",
       " 'sex': -0.874962471635484,\n",
       " 'cp': 0.6831928683869054,\n",
       " 'trestbps': -0.011873381846107969,\n",
       " 'restecg': 0.3490743562334302,\n",
       " 'thalach': 0.023401311246017943,\n",
       " 'exang': -0.6380197187621975,\n",
       " 'oldpeak': -0.5886951681007988,\n",
       " 'slope': 0.4596564279862898,\n",
       " 'ca': -0.6414248324534161,\n",
       " 'thal': -0.7128644638089837}"
      ]
     },
     "execution_count": 68,
     "metadata": {},
     "output_type": "execute_result"
    }
   ],
   "source": [
    "feature_imp = dict(zip(df.columns,list(clf.coef_[0])))\n",
    "feature_imp"
   ]
  },
  {
   "cell_type": "code",
   "execution_count": 69,
   "metadata": {},
   "outputs": [
    {
     "data": {
      "image/png": "[encoded data removed]",
      "text/plain": [
       "<Figure size 432x288 with 1 Axes>"
      ]
     },
     "metadata": {
      "needs_background": "light"
     },
     "output_type": "display_data"
    }
   ],
   "source": [
    "# Plotting Feature Importance\n",
    "feature_imp_df=pd.DataFrame(feature_imp,index=[0])\n",
    "feature_imp_df.T.plot.bar(title='Feature Importance',legend=False,grid='ON');"
   ]
  },
  {
   "cell_type": "code",
   "execution_count": null,
   "metadata": {},
   "outputs": [],
   "source": []
  }
 ],
 "metadata": {
  "kernelspec": {
   "display_name": "Python 3",
   "language": "python",
   "name": "python3"
  },
  "language_info": {
   "codemirror_mode": {
    "name": "ipython",
    "version": 3
   },
   "file_extension": ".py",
   "mimetype": "text/x-python",
   "name": "python",
   "nbconvert_exporter": "python",
   "pygments_lexer": "ipython3",
   "version": "3.7.7"
  }
 },
 "nbformat": 4,
 "nbformat_minor": 4
}
